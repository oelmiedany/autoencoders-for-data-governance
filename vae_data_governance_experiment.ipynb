{
 "cells": [
  {
   "cell_type": "code",
   "execution_count": 2,
   "metadata": {},
   "outputs": [],
   "source": [
    "from LendingClubAutoencoder import preprocessing, autoencoders, training, testing\n",
    "\n",
    "import torch\n",
    "\n",
    "from datetime import datetime, timedelta\n",
    "\n",
    "import os\n",
    "import shutil\n",
    "\n",
    "import json\n",
    "import pickle\n",
    "\n",
    "import polars as pl\n",
    "import numpy as np\n",
    "import scipy.stats\n",
    "\n",
    "import plotly.graph_objects as go"
   ]
  },
  {
   "cell_type": "markdown",
   "metadata": {},
   "source": [
    "# Model Training & Evaluation"
   ]
  },
  {
   "cell_type": "code",
   "execution_count": 3,
   "metadata": {},
   "outputs": [
    {
     "name": "stdout",
     "output_type": "stream",
     "text": [
      "Loaded Evaluation Results\n"
     ]
    }
   ],
   "source": [
    "evaluation_results_path = 'evaluation_results.json'\n",
    "\n",
    "if os.path.exists(evaluation_results_path):\n",
    "    with open(evaluation_results_path, 'r') as f:\n",
    "        evaluation_results = json.load(f)\n",
    "    print('Loaded Evaluation Results')\n",
    "\n",
    "else:\n",
    "    evaluation_results = {}\n",
    "\n",
    "    learning_rate = 1e-3\n",
    "    \n",
    "    print('Loaded Data Handler')\n",
    "    #Data\n",
    "    lending_club_data_handler = preprocessing.DataHandler(csv_path='local_data/all_lending_club_loan_data_2007-2018.csv')\n",
    "\n",
    "    #Date Ranges\n",
    "    train_start = datetime(2013, 1, 1)\n",
    "    train_end = datetime(2017, 5, 31)\n",
    "\n",
    "    validation_start = datetime(2017, 6, 1)\n",
    "    validation_end = datetime(2017, 12, 31)\n",
    "\n",
    "    test_year = 2018\n",
    "\n",
    "    #Cross Validation\n",
    "    print('Running Cross Validation')\n",
    "    evaluation_results['cross-validation'] = testing.cross_validate_vae(lending_club_data_handler, train_start, train_end, learning_rate=learning_rate)\n",
    "\n",
    "    print('Preparing for Final Model')\n",
    "    if os.path.exists('trained_models'):\n",
    "        shutil.rmtree('trained_models')\n",
    "\n",
    "    evaluation_results['evaluation_results'] = {}\n",
    "\n",
    "    #Full evaluation\n",
    "    train_data, train_mask = lending_club_data_handler.get_train_data(train_start, train_end)\n",
    "    validation_data, validation_mask = lending_club_data_handler.get_test_data(validation_start, validation_end)\n",
    "\n",
    "    train_loader = preprocessing.to_torch_dataloader(train_data,train_mask)\n",
    "    validation_loader = preprocessing.to_torch_dataloader(validation_data,validation_mask)\n",
    "\n",
    "    sigmoid_mask = lending_club_data_handler.get_sigmoid_feature_mask(as_torch=True)\n",
    "    binary_mask = lending_club_data_handler.get_binary_feature_mask(as_torch=True)\n",
    "\n",
    "    device = torch.device('cuda' if torch.cuda.is_available() else 'cpu')\n",
    "\n",
    "    # Instantiate model and optimiser \n",
    "    model = autoencoders.VariationalAutoencoder(input_size=len(train_data[0]), sigmoid_mask=sigmoid_mask)\n",
    "    optimiser = torch.optim.Adam(model.parameters(), lr=learning_rate)#original is 1e-3\n",
    "\n",
    "    # Train model \n",
    "    print('Training Final Model')\n",
    "    training.train_variational_autoencoder(model, optimiser, train_loader, validation_loader, binary_mask=binary_mask, device=device)\n",
    "\n",
    "    print('Evaluating Final Model')\n",
    "    quarter_counter = 1\n",
    "    for start_month, end_month in zip([1,4,7,10], [3,6,9,12]):\n",
    "        test_start = datetime(test_year, start_month, 1)\n",
    "        \n",
    "        try:\n",
    "            test_end = datetime(test_year, end_month, 31)\n",
    "        except ValueError:\n",
    "            test_end = datetime(test_year, end_month, 30)\n",
    "\n",
    "        test_data, test_mask = lending_club_data_handler.get_test_data(test_start, test_end)\n",
    "        test_loader = preprocessing.to_torch_dataloader(test_data,test_mask)\n",
    "\n",
    "        model_file_name = f'trained_models/vae_best-input_size:{len(train_data[0])}.pt'\n",
    "\n",
    "        total_loss, rmse_loss, bce_loss = testing.test_vae(model_file_name, test_loader, sigmoid_mask, binary_mask, device)\n",
    "\n",
    "        evaluation_results['evaluation_results'][f'q{quarter_counter}'] = {\n",
    "            'total_loss': total_loss,\n",
    "            'rmse_loss': rmse_loss,\n",
    "            'bce_loss': bce_loss\n",
    "        }\n",
    "\n",
    "        quarter_counter = quarter_counter + 1\n",
    "\n",
    "    json.dump(evaluation_results, open(evaluation_results_path, 'w'))\n",
    "    \n",
    "    with open('trained_models/lending_club_data_handler.pkl', 'wb') as f:\n",
    "        pickle.dump(lending_club_data_handler, f)"
   ]
  },
  {
   "cell_type": "code",
   "execution_count": 5,
   "metadata": {},
   "outputs": [
    {
     "name": "stdout",
     "output_type": "stream",
     "text": [
      "Vectors Loaded Successfuly\n"
     ]
    }
   ],
   "source": [
    "vector_representations_path = 'vector_representations.csv'\n",
    "\n",
    "if os.path.exists(evaluation_results_path):\n",
    "    vectors_df = pl.read_csv(vector_representations_path)\n",
    "    print('Vectors Loaded Successfuly')\n",
    "else:\n",
    "    # Load data handler and set up model\n",
    "    try:\n",
    "        with open('trained_models/lending_club_data_handler.pkl', 'rb') as file:\n",
    "            lending_club_data_handler = pickle.load(file)\n",
    "    except FileNotFoundError:\n",
    "        raise FileExistsError('Data handler file not found. Please run the model training cell first.')\n",
    "\n",
    "    sigmoid_mask = lending_club_data_handler.get_sigmoid_feature_mask(as_torch=True)\n",
    "\n",
    "    device = torch.device('cuda' if torch.cuda.is_available() else 'cpu')\n",
    "    model = training.get_best_model(autoencoders.VariationalAutoencoder, sigmoid_mask)\n",
    "\n",
    "    model.eval()\n",
    "\n",
    "    all_quarters_dfs = []\n",
    "    test_year = 2018\n",
    "    \n",
    "    # Process each quarter\n",
    "    for quarter_counter, (start_month, end_month) in enumerate(zip([1, 4, 7, 10], [3, 6, 9, 12]), 1):\n",
    "        print(f'Processing Q{quarter_counter}...')\n",
    "        test_start = datetime(test_year, start_month, 1)\n",
    "        Í\n",
    "        try:\n",
    "            test_end = datetime(test_year, end_month, 31)\n",
    "        except ValueError:\n",
    "            test_end = datetime(test_year, end_month, 30)\n",
    "\n",
    "        test_data, test_mask = lending_club_data_handler.get_test_data(test_start, test_end)\n",
    "        test_loader = preprocessing.to_torch_dataloader(test_data, test_mask)\n",
    "\n",
    "        quarter_means = []\n",
    "        with torch.no_grad():\n",
    "            for data_batch, mask_batch in test_loader:\n",
    "                data_batch = data_batch.to(device)\n",
    "                _, mean = model(data_batch)\n",
    "                quarter_means.append(mean.cpu().numpy())\n",
    "\n",
    "        means_array = np.vstack(quarter_means)\n",
    "        num_features = means_array.shape[1]\n",
    "        feature_columns = [f'feature_{i+1}' for i in range(num_features)]\n",
    "        \n",
    "        df = pl.DataFrame(means_array, schema=feature_columns)\n",
    "        df = df.with_columns(pl.lit(f'q{quarter_counter}').alias('quarter'))\n",
    "        \n",
    "        # Reorder columns to have 'quarter' first\n",
    "        df = df.select(['quarter'] + feature_columns)\n",
    "        \n",
    "        all_quarters_dfs.append(df)\n",
    "\n",
    "    # Concatenate all quarterly dataframes\n",
    "    vectors_df = pl.concat(all_quarters_dfs)\n",
    "\n",
    "    vectors_df.write_csv(vector_representations_path)\n",
    "    print('Successfully saved to CSV.')\n"
   ]
  },
  {
   "cell_type": "code",
   "execution_count": 18,
   "metadata": {},
   "outputs": [
    {
     "data": {
      "application/vnd.plotly.v1+json": {
       "config": {
        "plotlyServerURL": "https://plot.ly"
       },
       "data": [
        {
         "marker": {
          "color": "black"
         },
         "name": "Evaluation Results",
         "type": "bar",
         "x": [
          "buffer1",
          "q1",
          "q2",
          "q3",
          "q4",
          "buffer2"
         ],
         "y": [
          0,
          0.43041470802410076,
          0.43134642172233,
          0.45059536519402754,
          0.47794117340117354,
          0
         ]
        },
        {
         "line": {
          "color": "firebrick",
          "width": 2
         },
         "mode": "lines",
         "name": "CV Mean 0.466",
         "type": "scatter",
         "x": [
          "buffer1",
          "q1",
          "q2",
          "q3",
          "q4",
          "buffer2"
         ],
         "y": [
          0.4660444701283815,
          0.4660444701283815,
          0.4660444701283815,
          0.4660444701283815,
          0.4660444701283815,
          0.4660444701283815
         ]
        }
       ],
       "layout": {
        "plot_bgcolor": "white",
        "template": {
         "data": {
          "bar": [
           {
            "error_x": {
             "color": "#2a3f5f"
            },
            "error_y": {
             "color": "#2a3f5f"
            },
            "marker": {
             "line": {
              "color": "#E5ECF6",
              "width": 0.5
             },
             "pattern": {
              "fillmode": "overlay",
              "size": 10,
              "solidity": 0.2
             }
            },
            "type": "bar"
           }
          ],
          "barpolar": [
           {
            "marker": {
             "line": {
              "color": "#E5ECF6",
              "width": 0.5
             },
             "pattern": {
              "fillmode": "overlay",
              "size": 10,
              "solidity": 0.2
             }
            },
            "type": "barpolar"
           }
          ],
          "carpet": [
           {
            "aaxis": {
             "endlinecolor": "#2a3f5f",
             "gridcolor": "white",
             "linecolor": "white",
             "minorgridcolor": "white",
             "startlinecolor": "#2a3f5f"
            },
            "baxis": {
             "endlinecolor": "#2a3f5f",
             "gridcolor": "white",
             "linecolor": "white",
             "minorgridcolor": "white",
             "startlinecolor": "#2a3f5f"
            },
            "type": "carpet"
           }
          ],
          "choropleth": [
           {
            "colorbar": {
             "outlinewidth": 0,
             "ticks": ""
            },
            "type": "choropleth"
           }
          ],
          "contour": [
           {
            "colorbar": {
             "outlinewidth": 0,
             "ticks": ""
            },
            "colorscale": [
             [
              0,
              "#0d0887"
             ],
             [
              0.1111111111111111,
              "#46039f"
             ],
             [
              0.2222222222222222,
              "#7201a8"
             ],
             [
              0.3333333333333333,
              "#9c179e"
             ],
             [
              0.4444444444444444,
              "#bd3786"
             ],
             [
              0.5555555555555556,
              "#d8576b"
             ],
             [
              0.6666666666666666,
              "#ed7953"
             ],
             [
              0.7777777777777778,
              "#fb9f3a"
             ],
             [
              0.8888888888888888,
              "#fdca26"
             ],
             [
              1,
              "#f0f921"
             ]
            ],
            "type": "contour"
           }
          ],
          "contourcarpet": [
           {
            "colorbar": {
             "outlinewidth": 0,
             "ticks": ""
            },
            "type": "contourcarpet"
           }
          ],
          "heatmap": [
           {
            "colorbar": {
             "outlinewidth": 0,
             "ticks": ""
            },
            "colorscale": [
             [
              0,
              "#0d0887"
             ],
             [
              0.1111111111111111,
              "#46039f"
             ],
             [
              0.2222222222222222,
              "#7201a8"
             ],
             [
              0.3333333333333333,
              "#9c179e"
             ],
             [
              0.4444444444444444,
              "#bd3786"
             ],
             [
              0.5555555555555556,
              "#d8576b"
             ],
             [
              0.6666666666666666,
              "#ed7953"
             ],
             [
              0.7777777777777778,
              "#fb9f3a"
             ],
             [
              0.8888888888888888,
              "#fdca26"
             ],
             [
              1,
              "#f0f921"
             ]
            ],
            "type": "heatmap"
           }
          ],
          "histogram": [
           {
            "marker": {
             "pattern": {
              "fillmode": "overlay",
              "size": 10,
              "solidity": 0.2
             }
            },
            "type": "histogram"
           }
          ],
          "histogram2d": [
           {
            "colorbar": {
             "outlinewidth": 0,
             "ticks": ""
            },
            "colorscale": [
             [
              0,
              "#0d0887"
             ],
             [
              0.1111111111111111,
              "#46039f"
             ],
             [
              0.2222222222222222,
              "#7201a8"
             ],
             [
              0.3333333333333333,
              "#9c179e"
             ],
             [
              0.4444444444444444,
              "#bd3786"
             ],
             [
              0.5555555555555556,
              "#d8576b"
             ],
             [
              0.6666666666666666,
              "#ed7953"
             ],
             [
              0.7777777777777778,
              "#fb9f3a"
             ],
             [
              0.8888888888888888,
              "#fdca26"
             ],
             [
              1,
              "#f0f921"
             ]
            ],
            "type": "histogram2d"
           }
          ],
          "histogram2dcontour": [
           {
            "colorbar": {
             "outlinewidth": 0,
             "ticks": ""
            },
            "colorscale": [
             [
              0,
              "#0d0887"
             ],
             [
              0.1111111111111111,
              "#46039f"
             ],
             [
              0.2222222222222222,
              "#7201a8"
             ],
             [
              0.3333333333333333,
              "#9c179e"
             ],
             [
              0.4444444444444444,
              "#bd3786"
             ],
             [
              0.5555555555555556,
              "#d8576b"
             ],
             [
              0.6666666666666666,
              "#ed7953"
             ],
             [
              0.7777777777777778,
              "#fb9f3a"
             ],
             [
              0.8888888888888888,
              "#fdca26"
             ],
             [
              1,
              "#f0f921"
             ]
            ],
            "type": "histogram2dcontour"
           }
          ],
          "mesh3d": [
           {
            "colorbar": {
             "outlinewidth": 0,
             "ticks": ""
            },
            "type": "mesh3d"
           }
          ],
          "parcoords": [
           {
            "line": {
             "colorbar": {
              "outlinewidth": 0,
              "ticks": ""
             }
            },
            "type": "parcoords"
           }
          ],
          "pie": [
           {
            "automargin": true,
            "type": "pie"
           }
          ],
          "scatter": [
           {
            "fillpattern": {
             "fillmode": "overlay",
             "size": 10,
             "solidity": 0.2
            },
            "type": "scatter"
           }
          ],
          "scatter3d": [
           {
            "line": {
             "colorbar": {
              "outlinewidth": 0,
              "ticks": ""
             }
            },
            "marker": {
             "colorbar": {
              "outlinewidth": 0,
              "ticks": ""
             }
            },
            "type": "scatter3d"
           }
          ],
          "scattercarpet": [
           {
            "marker": {
             "colorbar": {
              "outlinewidth": 0,
              "ticks": ""
             }
            },
            "type": "scattercarpet"
           }
          ],
          "scattergeo": [
           {
            "marker": {
             "colorbar": {
              "outlinewidth": 0,
              "ticks": ""
             }
            },
            "type": "scattergeo"
           }
          ],
          "scattergl": [
           {
            "marker": {
             "colorbar": {
              "outlinewidth": 0,
              "ticks": ""
             }
            },
            "type": "scattergl"
           }
          ],
          "scattermap": [
           {
            "marker": {
             "colorbar": {
              "outlinewidth": 0,
              "ticks": ""
             }
            },
            "type": "scattermap"
           }
          ],
          "scattermapbox": [
           {
            "marker": {
             "colorbar": {
              "outlinewidth": 0,
              "ticks": ""
             }
            },
            "type": "scattermapbox"
           }
          ],
          "scatterpolar": [
           {
            "marker": {
             "colorbar": {
              "outlinewidth": 0,
              "ticks": ""
             }
            },
            "type": "scatterpolar"
           }
          ],
          "scatterpolargl": [
           {
            "marker": {
             "colorbar": {
              "outlinewidth": 0,
              "ticks": ""
             }
            },
            "type": "scatterpolargl"
           }
          ],
          "scatterternary": [
           {
            "marker": {
             "colorbar": {
              "outlinewidth": 0,
              "ticks": ""
             }
            },
            "type": "scatterternary"
           }
          ],
          "surface": [
           {
            "colorbar": {
             "outlinewidth": 0,
             "ticks": ""
            },
            "colorscale": [
             [
              0,
              "#0d0887"
             ],
             [
              0.1111111111111111,
              "#46039f"
             ],
             [
              0.2222222222222222,
              "#7201a8"
             ],
             [
              0.3333333333333333,
              "#9c179e"
             ],
             [
              0.4444444444444444,
              "#bd3786"
             ],
             [
              0.5555555555555556,
              "#d8576b"
             ],
             [
              0.6666666666666666,
              "#ed7953"
             ],
             [
              0.7777777777777778,
              "#fb9f3a"
             ],
             [
              0.8888888888888888,
              "#fdca26"
             ],
             [
              1,
              "#f0f921"
             ]
            ],
            "type": "surface"
           }
          ],
          "table": [
           {
            "cells": {
             "fill": {
              "color": "#EBF0F8"
             },
             "line": {
              "color": "white"
             }
            },
            "header": {
             "fill": {
              "color": "#C8D4E3"
             },
             "line": {
              "color": "white"
             }
            },
            "type": "table"
           }
          ]
         },
         "layout": {
          "annotationdefaults": {
           "arrowcolor": "#2a3f5f",
           "arrowhead": 0,
           "arrowwidth": 1
          },
          "autotypenumbers": "strict",
          "coloraxis": {
           "colorbar": {
            "outlinewidth": 0,
            "ticks": ""
           }
          },
          "colorscale": {
           "diverging": [
            [
             0,
             "#8e0152"
            ],
            [
             0.1,
             "#c51b7d"
            ],
            [
             0.2,
             "#de77ae"
            ],
            [
             0.3,
             "#f1b6da"
            ],
            [
             0.4,
             "#fde0ef"
            ],
            [
             0.5,
             "#f7f7f7"
            ],
            [
             0.6,
             "#e6f5d0"
            ],
            [
             0.7,
             "#b8e186"
            ],
            [
             0.8,
             "#7fbc41"
            ],
            [
             0.9,
             "#4d9221"
            ],
            [
             1,
             "#276419"
            ]
           ],
           "sequential": [
            [
             0,
             "#0d0887"
            ],
            [
             0.1111111111111111,
             "#46039f"
            ],
            [
             0.2222222222222222,
             "#7201a8"
            ],
            [
             0.3333333333333333,
             "#9c179e"
            ],
            [
             0.4444444444444444,
             "#bd3786"
            ],
            [
             0.5555555555555556,
             "#d8576b"
            ],
            [
             0.6666666666666666,
             "#ed7953"
            ],
            [
             0.7777777777777778,
             "#fb9f3a"
            ],
            [
             0.8888888888888888,
             "#fdca26"
            ],
            [
             1,
             "#f0f921"
            ]
           ],
           "sequentialminus": [
            [
             0,
             "#0d0887"
            ],
            [
             0.1111111111111111,
             "#46039f"
            ],
            [
             0.2222222222222222,
             "#7201a8"
            ],
            [
             0.3333333333333333,
             "#9c179e"
            ],
            [
             0.4444444444444444,
             "#bd3786"
            ],
            [
             0.5555555555555556,
             "#d8576b"
            ],
            [
             0.6666666666666666,
             "#ed7953"
            ],
            [
             0.7777777777777778,
             "#fb9f3a"
            ],
            [
             0.8888888888888888,
             "#fdca26"
            ],
            [
             1,
             "#f0f921"
            ]
           ]
          },
          "colorway": [
           "#636efa",
           "#EF553B",
           "#00cc96",
           "#ab63fa",
           "#FFA15A",
           "#19d3f3",
           "#FF6692",
           "#B6E880",
           "#FF97FF",
           "#FECB52"
          ],
          "font": {
           "color": "#2a3f5f"
          },
          "geo": {
           "bgcolor": "white",
           "lakecolor": "white",
           "landcolor": "#E5ECF6",
           "showlakes": true,
           "showland": true,
           "subunitcolor": "white"
          },
          "hoverlabel": {
           "align": "left"
          },
          "hovermode": "closest",
          "mapbox": {
           "style": "light"
          },
          "paper_bgcolor": "white",
          "plot_bgcolor": "#E5ECF6",
          "polar": {
           "angularaxis": {
            "gridcolor": "white",
            "linecolor": "white",
            "ticks": ""
           },
           "bgcolor": "#E5ECF6",
           "radialaxis": {
            "gridcolor": "white",
            "linecolor": "white",
            "ticks": ""
           }
          },
          "scene": {
           "xaxis": {
            "backgroundcolor": "#E5ECF6",
            "gridcolor": "white",
            "gridwidth": 2,
            "linecolor": "white",
            "showbackground": true,
            "ticks": "",
            "zerolinecolor": "white"
           },
           "yaxis": {
            "backgroundcolor": "#E5ECF6",
            "gridcolor": "white",
            "gridwidth": 2,
            "linecolor": "white",
            "showbackground": true,
            "ticks": "",
            "zerolinecolor": "white"
           },
           "zaxis": {
            "backgroundcolor": "#E5ECF6",
            "gridcolor": "white",
            "gridwidth": 2,
            "linecolor": "white",
            "showbackground": true,
            "ticks": "",
            "zerolinecolor": "white"
           }
          },
          "shapedefaults": {
           "line": {
            "color": "#2a3f5f"
           }
          },
          "ternary": {
           "aaxis": {
            "gridcolor": "white",
            "linecolor": "white",
            "ticks": ""
           },
           "baxis": {
            "gridcolor": "white",
            "linecolor": "white",
            "ticks": ""
           },
           "bgcolor": "#E5ECF6",
           "caxis": {
            "gridcolor": "white",
            "linecolor": "white",
            "ticks": ""
           }
          },
          "title": {
           "x": 0.05
          },
          "xaxis": {
           "automargin": true,
           "gridcolor": "white",
           "linecolor": "white",
           "ticks": "",
           "title": {
            "standoff": 15
           },
           "zerolinecolor": "white",
           "zerolinewidth": 2
          },
          "yaxis": {
           "automargin": true,
           "gridcolor": "white",
           "linecolor": "white",
           "ticks": "",
           "title": {
            "standoff": 15
           },
           "zerolinecolor": "white",
           "zerolinewidth": 2
          }
         }
        },
        "title": {
         "text": "Final Model RMSE LOSS"
        },
        "xaxis": {
         "range": [
          0.5,
          4.5
         ],
         "title": {
          "text": "Test Quarter"
         }
        },
        "yaxis": {
         "title": {
          "text": "rmse loss"
         }
        }
       }
      }
     },
     "metadata": {},
     "output_type": "display_data"
    },
    {
     "data": {
      "application/vnd.plotly.v1+json": {
       "config": {
        "plotlyServerURL": "https://plot.ly"
       },
       "data": [
        {
         "marker": {
          "color": "black"
         },
         "name": "Evaluation Results",
         "type": "bar",
         "x": [
          "buffer1",
          "q1",
          "q2",
          "q3",
          "q4",
          "buffer2"
         ],
         "y": [
          0,
          0.021337016104209024,
          0.03136042351611214,
          0.05348143973406367,
          0.06073437556373833,
          0
         ]
        },
        {
         "line": {
          "color": "firebrick",
          "width": 2
         },
         "mode": "lines",
         "name": "CV Mean 0.028",
         "type": "scatter",
         "x": [
          "buffer1",
          "q1",
          "q2",
          "q3",
          "q4",
          "buffer2"
         ],
         "y": [
          0.02847966581442446,
          0.02847966581442446,
          0.02847966581442446,
          0.02847966581442446,
          0.02847966581442446,
          0.02847966581442446
         ]
        }
       ],
       "layout": {
        "plot_bgcolor": "white",
        "template": {
         "data": {
          "bar": [
           {
            "error_x": {
             "color": "#2a3f5f"
            },
            "error_y": {
             "color": "#2a3f5f"
            },
            "marker": {
             "line": {
              "color": "#E5ECF6",
              "width": 0.5
             },
             "pattern": {
              "fillmode": "overlay",
              "size": 10,
              "solidity": 0.2
             }
            },
            "type": "bar"
           }
          ],
          "barpolar": [
           {
            "marker": {
             "line": {
              "color": "#E5ECF6",
              "width": 0.5
             },
             "pattern": {
              "fillmode": "overlay",
              "size": 10,
              "solidity": 0.2
             }
            },
            "type": "barpolar"
           }
          ],
          "carpet": [
           {
            "aaxis": {
             "endlinecolor": "#2a3f5f",
             "gridcolor": "white",
             "linecolor": "white",
             "minorgridcolor": "white",
             "startlinecolor": "#2a3f5f"
            },
            "baxis": {
             "endlinecolor": "#2a3f5f",
             "gridcolor": "white",
             "linecolor": "white",
             "minorgridcolor": "white",
             "startlinecolor": "#2a3f5f"
            },
            "type": "carpet"
           }
          ],
          "choropleth": [
           {
            "colorbar": {
             "outlinewidth": 0,
             "ticks": ""
            },
            "type": "choropleth"
           }
          ],
          "contour": [
           {
            "colorbar": {
             "outlinewidth": 0,
             "ticks": ""
            },
            "colorscale": [
             [
              0,
              "#0d0887"
             ],
             [
              0.1111111111111111,
              "#46039f"
             ],
             [
              0.2222222222222222,
              "#7201a8"
             ],
             [
              0.3333333333333333,
              "#9c179e"
             ],
             [
              0.4444444444444444,
              "#bd3786"
             ],
             [
              0.5555555555555556,
              "#d8576b"
             ],
             [
              0.6666666666666666,
              "#ed7953"
             ],
             [
              0.7777777777777778,
              "#fb9f3a"
             ],
             [
              0.8888888888888888,
              "#fdca26"
             ],
             [
              1,
              "#f0f921"
             ]
            ],
            "type": "contour"
           }
          ],
          "contourcarpet": [
           {
            "colorbar": {
             "outlinewidth": 0,
             "ticks": ""
            },
            "type": "contourcarpet"
           }
          ],
          "heatmap": [
           {
            "colorbar": {
             "outlinewidth": 0,
             "ticks": ""
            },
            "colorscale": [
             [
              0,
              "#0d0887"
             ],
             [
              0.1111111111111111,
              "#46039f"
             ],
             [
              0.2222222222222222,
              "#7201a8"
             ],
             [
              0.3333333333333333,
              "#9c179e"
             ],
             [
              0.4444444444444444,
              "#bd3786"
             ],
             [
              0.5555555555555556,
              "#d8576b"
             ],
             [
              0.6666666666666666,
              "#ed7953"
             ],
             [
              0.7777777777777778,
              "#fb9f3a"
             ],
             [
              0.8888888888888888,
              "#fdca26"
             ],
             [
              1,
              "#f0f921"
             ]
            ],
            "type": "heatmap"
           }
          ],
          "histogram": [
           {
            "marker": {
             "pattern": {
              "fillmode": "overlay",
              "size": 10,
              "solidity": 0.2
             }
            },
            "type": "histogram"
           }
          ],
          "histogram2d": [
           {
            "colorbar": {
             "outlinewidth": 0,
             "ticks": ""
            },
            "colorscale": [
             [
              0,
              "#0d0887"
             ],
             [
              0.1111111111111111,
              "#46039f"
             ],
             [
              0.2222222222222222,
              "#7201a8"
             ],
             [
              0.3333333333333333,
              "#9c179e"
             ],
             [
              0.4444444444444444,
              "#bd3786"
             ],
             [
              0.5555555555555556,
              "#d8576b"
             ],
             [
              0.6666666666666666,
              "#ed7953"
             ],
             [
              0.7777777777777778,
              "#fb9f3a"
             ],
             [
              0.8888888888888888,
              "#fdca26"
             ],
             [
              1,
              "#f0f921"
             ]
            ],
            "type": "histogram2d"
           }
          ],
          "histogram2dcontour": [
           {
            "colorbar": {
             "outlinewidth": 0,
             "ticks": ""
            },
            "colorscale": [
             [
              0,
              "#0d0887"
             ],
             [
              0.1111111111111111,
              "#46039f"
             ],
             [
              0.2222222222222222,
              "#7201a8"
             ],
             [
              0.3333333333333333,
              "#9c179e"
             ],
             [
              0.4444444444444444,
              "#bd3786"
             ],
             [
              0.5555555555555556,
              "#d8576b"
             ],
             [
              0.6666666666666666,
              "#ed7953"
             ],
             [
              0.7777777777777778,
              "#fb9f3a"
             ],
             [
              0.8888888888888888,
              "#fdca26"
             ],
             [
              1,
              "#f0f921"
             ]
            ],
            "type": "histogram2dcontour"
           }
          ],
          "mesh3d": [
           {
            "colorbar": {
             "outlinewidth": 0,
             "ticks": ""
            },
            "type": "mesh3d"
           }
          ],
          "parcoords": [
           {
            "line": {
             "colorbar": {
              "outlinewidth": 0,
              "ticks": ""
             }
            },
            "type": "parcoords"
           }
          ],
          "pie": [
           {
            "automargin": true,
            "type": "pie"
           }
          ],
          "scatter": [
           {
            "fillpattern": {
             "fillmode": "overlay",
             "size": 10,
             "solidity": 0.2
            },
            "type": "scatter"
           }
          ],
          "scatter3d": [
           {
            "line": {
             "colorbar": {
              "outlinewidth": 0,
              "ticks": ""
             }
            },
            "marker": {
             "colorbar": {
              "outlinewidth": 0,
              "ticks": ""
             }
            },
            "type": "scatter3d"
           }
          ],
          "scattercarpet": [
           {
            "marker": {
             "colorbar": {
              "outlinewidth": 0,
              "ticks": ""
             }
            },
            "type": "scattercarpet"
           }
          ],
          "scattergeo": [
           {
            "marker": {
             "colorbar": {
              "outlinewidth": 0,
              "ticks": ""
             }
            },
            "type": "scattergeo"
           }
          ],
          "scattergl": [
           {
            "marker": {
             "colorbar": {
              "outlinewidth": 0,
              "ticks": ""
             }
            },
            "type": "scattergl"
           }
          ],
          "scattermap": [
           {
            "marker": {
             "colorbar": {
              "outlinewidth": 0,
              "ticks": ""
             }
            },
            "type": "scattermap"
           }
          ],
          "scattermapbox": [
           {
            "marker": {
             "colorbar": {
              "outlinewidth": 0,
              "ticks": ""
             }
            },
            "type": "scattermapbox"
           }
          ],
          "scatterpolar": [
           {
            "marker": {
             "colorbar": {
              "outlinewidth": 0,
              "ticks": ""
             }
            },
            "type": "scatterpolar"
           }
          ],
          "scatterpolargl": [
           {
            "marker": {
             "colorbar": {
              "outlinewidth": 0,
              "ticks": ""
             }
            },
            "type": "scatterpolargl"
           }
          ],
          "scatterternary": [
           {
            "marker": {
             "colorbar": {
              "outlinewidth": 0,
              "ticks": ""
             }
            },
            "type": "scatterternary"
           }
          ],
          "surface": [
           {
            "colorbar": {
             "outlinewidth": 0,
             "ticks": ""
            },
            "colorscale": [
             [
              0,
              "#0d0887"
             ],
             [
              0.1111111111111111,
              "#46039f"
             ],
             [
              0.2222222222222222,
              "#7201a8"
             ],
             [
              0.3333333333333333,
              "#9c179e"
             ],
             [
              0.4444444444444444,
              "#bd3786"
             ],
             [
              0.5555555555555556,
              "#d8576b"
             ],
             [
              0.6666666666666666,
              "#ed7953"
             ],
             [
              0.7777777777777778,
              "#fb9f3a"
             ],
             [
              0.8888888888888888,
              "#fdca26"
             ],
             [
              1,
              "#f0f921"
             ]
            ],
            "type": "surface"
           }
          ],
          "table": [
           {
            "cells": {
             "fill": {
              "color": "#EBF0F8"
             },
             "line": {
              "color": "white"
             }
            },
            "header": {
             "fill": {
              "color": "#C8D4E3"
             },
             "line": {
              "color": "white"
             }
            },
            "type": "table"
           }
          ]
         },
         "layout": {
          "annotationdefaults": {
           "arrowcolor": "#2a3f5f",
           "arrowhead": 0,
           "arrowwidth": 1
          },
          "autotypenumbers": "strict",
          "coloraxis": {
           "colorbar": {
            "outlinewidth": 0,
            "ticks": ""
           }
          },
          "colorscale": {
           "diverging": [
            [
             0,
             "#8e0152"
            ],
            [
             0.1,
             "#c51b7d"
            ],
            [
             0.2,
             "#de77ae"
            ],
            [
             0.3,
             "#f1b6da"
            ],
            [
             0.4,
             "#fde0ef"
            ],
            [
             0.5,
             "#f7f7f7"
            ],
            [
             0.6,
             "#e6f5d0"
            ],
            [
             0.7,
             "#b8e186"
            ],
            [
             0.8,
             "#7fbc41"
            ],
            [
             0.9,
             "#4d9221"
            ],
            [
             1,
             "#276419"
            ]
           ],
           "sequential": [
            [
             0,
             "#0d0887"
            ],
            [
             0.1111111111111111,
             "#46039f"
            ],
            [
             0.2222222222222222,
             "#7201a8"
            ],
            [
             0.3333333333333333,
             "#9c179e"
            ],
            [
             0.4444444444444444,
             "#bd3786"
            ],
            [
             0.5555555555555556,
             "#d8576b"
            ],
            [
             0.6666666666666666,
             "#ed7953"
            ],
            [
             0.7777777777777778,
             "#fb9f3a"
            ],
            [
             0.8888888888888888,
             "#fdca26"
            ],
            [
             1,
             "#f0f921"
            ]
           ],
           "sequentialminus": [
            [
             0,
             "#0d0887"
            ],
            [
             0.1111111111111111,
             "#46039f"
            ],
            [
             0.2222222222222222,
             "#7201a8"
            ],
            [
             0.3333333333333333,
             "#9c179e"
            ],
            [
             0.4444444444444444,
             "#bd3786"
            ],
            [
             0.5555555555555556,
             "#d8576b"
            ],
            [
             0.6666666666666666,
             "#ed7953"
            ],
            [
             0.7777777777777778,
             "#fb9f3a"
            ],
            [
             0.8888888888888888,
             "#fdca26"
            ],
            [
             1,
             "#f0f921"
            ]
           ]
          },
          "colorway": [
           "#636efa",
           "#EF553B",
           "#00cc96",
           "#ab63fa",
           "#FFA15A",
           "#19d3f3",
           "#FF6692",
           "#B6E880",
           "#FF97FF",
           "#FECB52"
          ],
          "font": {
           "color": "#2a3f5f"
          },
          "geo": {
           "bgcolor": "white",
           "lakecolor": "white",
           "landcolor": "#E5ECF6",
           "showlakes": true,
           "showland": true,
           "subunitcolor": "white"
          },
          "hoverlabel": {
           "align": "left"
          },
          "hovermode": "closest",
          "mapbox": {
           "style": "light"
          },
          "paper_bgcolor": "white",
          "plot_bgcolor": "#E5ECF6",
          "polar": {
           "angularaxis": {
            "gridcolor": "white",
            "linecolor": "white",
            "ticks": ""
           },
           "bgcolor": "#E5ECF6",
           "radialaxis": {
            "gridcolor": "white",
            "linecolor": "white",
            "ticks": ""
           }
          },
          "scene": {
           "xaxis": {
            "backgroundcolor": "#E5ECF6",
            "gridcolor": "white",
            "gridwidth": 2,
            "linecolor": "white",
            "showbackground": true,
            "ticks": "",
            "zerolinecolor": "white"
           },
           "yaxis": {
            "backgroundcolor": "#E5ECF6",
            "gridcolor": "white",
            "gridwidth": 2,
            "linecolor": "white",
            "showbackground": true,
            "ticks": "",
            "zerolinecolor": "white"
           },
           "zaxis": {
            "backgroundcolor": "#E5ECF6",
            "gridcolor": "white",
            "gridwidth": 2,
            "linecolor": "white",
            "showbackground": true,
            "ticks": "",
            "zerolinecolor": "white"
           }
          },
          "shapedefaults": {
           "line": {
            "color": "#2a3f5f"
           }
          },
          "ternary": {
           "aaxis": {
            "gridcolor": "white",
            "linecolor": "white",
            "ticks": ""
           },
           "baxis": {
            "gridcolor": "white",
            "linecolor": "white",
            "ticks": ""
           },
           "bgcolor": "#E5ECF6",
           "caxis": {
            "gridcolor": "white",
            "linecolor": "white",
            "ticks": ""
           }
          },
          "title": {
           "x": 0.05
          },
          "xaxis": {
           "automargin": true,
           "gridcolor": "white",
           "linecolor": "white",
           "ticks": "",
           "title": {
            "standoff": 15
           },
           "zerolinecolor": "white",
           "zerolinewidth": 2
          },
          "yaxis": {
           "automargin": true,
           "gridcolor": "white",
           "linecolor": "white",
           "ticks": "",
           "title": {
            "standoff": 15
           },
           "zerolinecolor": "white",
           "zerolinewidth": 2
          }
         }
        },
        "title": {
         "text": "Final Model BCE LOSS"
        },
        "xaxis": {
         "range": [
          0.5,
          4.5
         ],
         "title": {
          "text": "Test Quarter"
         }
        },
        "yaxis": {
         "title": {
          "text": "bce loss"
         }
        }
       }
      }
     },
     "metadata": {},
     "output_type": "display_data"
    }
   ],
   "source": [
    "\n",
    "def plot_evaluation_results(evaluation_results: dict, metric_name: str):\n",
    "    # compute cv mean\n",
    "    cv_values = [fold[metric_name] for fold in evaluation_results['cross-validation'].values()]\n",
    "    cv_mean   = sum(cv_values) / len(cv_values)\n",
    "\n",
    "    # original eval keys and values\n",
    "    eval_keys   = list(evaluation_results['evaluation_results'].keys())\n",
    "    eval_values = [evaluation_results['evaluation_results'][k][metric_name] for k in eval_keys]\n",
    "\n",
    "    # build buffered lists\n",
    "    x_labels    = ['buffer1'] + eval_keys + ['buffer2']\n",
    "    bar_values  = [0] + eval_values + [0]\n",
    "    line_values = [cv_mean] * len(x_labels)\n",
    "\n",
    "    # bar trace\n",
    "    bar = go.Bar(\n",
    "        x=x_labels,\n",
    "        y=bar_values,\n",
    "        marker_color='black',\n",
    "        name='Evaluation Results'\n",
    "    )\n",
    "\n",
    "    # cv mean line trace\n",
    "    line = go.Scatter(\n",
    "        x=x_labels,\n",
    "        y=line_values,\n",
    "        mode='lines',\n",
    "        line=dict(color='firebrick', width=2),\n",
    "        name=f'CV Mean {cv_mean:.3f}'\n",
    "    )\n",
    "\n",
    "    fig = go.Figure(data=[bar, line])\n",
    "    fig.update_layout(\n",
    "        plot_bgcolor='white',\n",
    "        xaxis_title_text='Test Quarter',\n",
    "        yaxis_title_text=f'{metric_name.replace(\"_\",\" \")}',\n",
    "        title=f'Final Model {\" \".join([word.upper() for word in metric_name.replace(\"_\",\" \").split(\" \")])}'\n",
    "    )\n",
    "\n",
    "    # zoom x axis to skip buffers\n",
    "    start_idx = 1\n",
    "    end_idx   = len(x_labels) - 2\n",
    "    fig.update_xaxes(range=[start_idx - 0.5, end_idx + 0.5])\n",
    "\n",
    "    fig.show()\n",
    "\n",
    "plot_evaluation_results(evaluation_results, 'rmse_loss')\n",
    "plot_evaluation_results(evaluation_results, 'bce_loss')"
   ]
  },
  {
   "cell_type": "code",
   "execution_count": 9,
   "metadata": {},
   "outputs": [
    {
     "data": {
      "application/vnd.plotly.v1+json": {
       "config": {
        "plotlyServerURL": "https://plot.ly"
       },
       "data": [
        {
         "colorscale": [
          [
           0,
           "rgb(5,48,97)"
          ],
          [
           0.1,
           "rgb(33,102,172)"
          ],
          [
           0.2,
           "rgb(67,147,195)"
          ],
          [
           0.3,
           "rgb(146,197,222)"
          ],
          [
           0.4,
           "rgb(209,229,240)"
          ],
          [
           0.5,
           "rgb(247,247,247)"
          ],
          [
           0.6,
           "rgb(253,219,199)"
          ],
          [
           0.7,
           "rgb(244,165,130)"
          ],
          [
           0.8,
           "rgb(214,96,77)"
          ],
          [
           0.9,
           "rgb(178,24,43)"
          ],
          [
           1,
           "rgb(103,0,31)"
          ]
         ],
         "text": {
          "bdata": "AAAAAAAAAADJdr6fGi+9P5ZDi2zn+8k/nMQgsHJo0T/Jdr6fGi+9PwAAAAAAAAAA8tJNYhBYuT/LoUW28/3EP5ZDi2zn+8k/8tJNYhBYuT8AAAAAAAAAAIPAyqFFtrM/nMQgsHJo0T/LoUW28/3EP4PAyqFFtrM/AAAAAAAAAAA=",
          "dtype": "f8",
          "shape": "4, 4"
         },
         "texttemplate": "%{text}",
         "type": "heatmap",
         "x": [
          "q1",
          "q2",
          "q3",
          "q4"
         ],
         "y": [
          "q1",
          "q2",
          "q3",
          "q4"
         ],
         "z": {
          "bdata": "AAAAAAAAAACKs00PNha9P71b5WkX+sk/Kq+Jcb1l0T+Ks00PNha9PwAAAAAAAAAAQvg/byQ/uT8Kx/raswTFP71b5WkX+sk/Qvg/byQ/uT8AAAAAAAAAADoRzW20mLM/Kq+Jcb1l0T8Kx/raswTFPzoRzW20mLM/AAAAAAAAAAA=",
          "dtype": "f8",
          "shape": "4, 4"
         },
         "zmax": 0.27183471763304345,
         "zmin": 0
        }
       ],
       "layout": {
        "template": {
         "data": {
          "bar": [
           {
            "error_x": {
             "color": "#2a3f5f"
            },
            "error_y": {
             "color": "#2a3f5f"
            },
            "marker": {
             "line": {
              "color": "#E5ECF6",
              "width": 0.5
             },
             "pattern": {
              "fillmode": "overlay",
              "size": 10,
              "solidity": 0.2
             }
            },
            "type": "bar"
           }
          ],
          "barpolar": [
           {
            "marker": {
             "line": {
              "color": "#E5ECF6",
              "width": 0.5
             },
             "pattern": {
              "fillmode": "overlay",
              "size": 10,
              "solidity": 0.2
             }
            },
            "type": "barpolar"
           }
          ],
          "carpet": [
           {
            "aaxis": {
             "endlinecolor": "#2a3f5f",
             "gridcolor": "white",
             "linecolor": "white",
             "minorgridcolor": "white",
             "startlinecolor": "#2a3f5f"
            },
            "baxis": {
             "endlinecolor": "#2a3f5f",
             "gridcolor": "white",
             "linecolor": "white",
             "minorgridcolor": "white",
             "startlinecolor": "#2a3f5f"
            },
            "type": "carpet"
           }
          ],
          "choropleth": [
           {
            "colorbar": {
             "outlinewidth": 0,
             "ticks": ""
            },
            "type": "choropleth"
           }
          ],
          "contour": [
           {
            "colorbar": {
             "outlinewidth": 0,
             "ticks": ""
            },
            "colorscale": [
             [
              0,
              "#0d0887"
             ],
             [
              0.1111111111111111,
              "#46039f"
             ],
             [
              0.2222222222222222,
              "#7201a8"
             ],
             [
              0.3333333333333333,
              "#9c179e"
             ],
             [
              0.4444444444444444,
              "#bd3786"
             ],
             [
              0.5555555555555556,
              "#d8576b"
             ],
             [
              0.6666666666666666,
              "#ed7953"
             ],
             [
              0.7777777777777778,
              "#fb9f3a"
             ],
             [
              0.8888888888888888,
              "#fdca26"
             ],
             [
              1,
              "#f0f921"
             ]
            ],
            "type": "contour"
           }
          ],
          "contourcarpet": [
           {
            "colorbar": {
             "outlinewidth": 0,
             "ticks": ""
            },
            "type": "contourcarpet"
           }
          ],
          "heatmap": [
           {
            "colorbar": {
             "outlinewidth": 0,
             "ticks": ""
            },
            "colorscale": [
             [
              0,
              "#0d0887"
             ],
             [
              0.1111111111111111,
              "#46039f"
             ],
             [
              0.2222222222222222,
              "#7201a8"
             ],
             [
              0.3333333333333333,
              "#9c179e"
             ],
             [
              0.4444444444444444,
              "#bd3786"
             ],
             [
              0.5555555555555556,
              "#d8576b"
             ],
             [
              0.6666666666666666,
              "#ed7953"
             ],
             [
              0.7777777777777778,
              "#fb9f3a"
             ],
             [
              0.8888888888888888,
              "#fdca26"
             ],
             [
              1,
              "#f0f921"
             ]
            ],
            "type": "heatmap"
           }
          ],
          "histogram": [
           {
            "marker": {
             "pattern": {
              "fillmode": "overlay",
              "size": 10,
              "solidity": 0.2
             }
            },
            "type": "histogram"
           }
          ],
          "histogram2d": [
           {
            "colorbar": {
             "outlinewidth": 0,
             "ticks": ""
            },
            "colorscale": [
             [
              0,
              "#0d0887"
             ],
             [
              0.1111111111111111,
              "#46039f"
             ],
             [
              0.2222222222222222,
              "#7201a8"
             ],
             [
              0.3333333333333333,
              "#9c179e"
             ],
             [
              0.4444444444444444,
              "#bd3786"
             ],
             [
              0.5555555555555556,
              "#d8576b"
             ],
             [
              0.6666666666666666,
              "#ed7953"
             ],
             [
              0.7777777777777778,
              "#fb9f3a"
             ],
             [
              0.8888888888888888,
              "#fdca26"
             ],
             [
              1,
              "#f0f921"
             ]
            ],
            "type": "histogram2d"
           }
          ],
          "histogram2dcontour": [
           {
            "colorbar": {
             "outlinewidth": 0,
             "ticks": ""
            },
            "colorscale": [
             [
              0,
              "#0d0887"
             ],
             [
              0.1111111111111111,
              "#46039f"
             ],
             [
              0.2222222222222222,
              "#7201a8"
             ],
             [
              0.3333333333333333,
              "#9c179e"
             ],
             [
              0.4444444444444444,
              "#bd3786"
             ],
             [
              0.5555555555555556,
              "#d8576b"
             ],
             [
              0.6666666666666666,
              "#ed7953"
             ],
             [
              0.7777777777777778,
              "#fb9f3a"
             ],
             [
              0.8888888888888888,
              "#fdca26"
             ],
             [
              1,
              "#f0f921"
             ]
            ],
            "type": "histogram2dcontour"
           }
          ],
          "mesh3d": [
           {
            "colorbar": {
             "outlinewidth": 0,
             "ticks": ""
            },
            "type": "mesh3d"
           }
          ],
          "parcoords": [
           {
            "line": {
             "colorbar": {
              "outlinewidth": 0,
              "ticks": ""
             }
            },
            "type": "parcoords"
           }
          ],
          "pie": [
           {
            "automargin": true,
            "type": "pie"
           }
          ],
          "scatter": [
           {
            "fillpattern": {
             "fillmode": "overlay",
             "size": 10,
             "solidity": 0.2
            },
            "type": "scatter"
           }
          ],
          "scatter3d": [
           {
            "line": {
             "colorbar": {
              "outlinewidth": 0,
              "ticks": ""
             }
            },
            "marker": {
             "colorbar": {
              "outlinewidth": 0,
              "ticks": ""
             }
            },
            "type": "scatter3d"
           }
          ],
          "scattercarpet": [
           {
            "marker": {
             "colorbar": {
              "outlinewidth": 0,
              "ticks": ""
             }
            },
            "type": "scattercarpet"
           }
          ],
          "scattergeo": [
           {
            "marker": {
             "colorbar": {
              "outlinewidth": 0,
              "ticks": ""
             }
            },
            "type": "scattergeo"
           }
          ],
          "scattergl": [
           {
            "marker": {
             "colorbar": {
              "outlinewidth": 0,
              "ticks": ""
             }
            },
            "type": "scattergl"
           }
          ],
          "scattermap": [
           {
            "marker": {
             "colorbar": {
              "outlinewidth": 0,
              "ticks": ""
             }
            },
            "type": "scattermap"
           }
          ],
          "scattermapbox": [
           {
            "marker": {
             "colorbar": {
              "outlinewidth": 0,
              "ticks": ""
             }
            },
            "type": "scattermapbox"
           }
          ],
          "scatterpolar": [
           {
            "marker": {
             "colorbar": {
              "outlinewidth": 0,
              "ticks": ""
             }
            },
            "type": "scatterpolar"
           }
          ],
          "scatterpolargl": [
           {
            "marker": {
             "colorbar": {
              "outlinewidth": 0,
              "ticks": ""
             }
            },
            "type": "scatterpolargl"
           }
          ],
          "scatterternary": [
           {
            "marker": {
             "colorbar": {
              "outlinewidth": 0,
              "ticks": ""
             }
            },
            "type": "scatterternary"
           }
          ],
          "surface": [
           {
            "colorbar": {
             "outlinewidth": 0,
             "ticks": ""
            },
            "colorscale": [
             [
              0,
              "#0d0887"
             ],
             [
              0.1111111111111111,
              "#46039f"
             ],
             [
              0.2222222222222222,
              "#7201a8"
             ],
             [
              0.3333333333333333,
              "#9c179e"
             ],
             [
              0.4444444444444444,
              "#bd3786"
             ],
             [
              0.5555555555555556,
              "#d8576b"
             ],
             [
              0.6666666666666666,
              "#ed7953"
             ],
             [
              0.7777777777777778,
              "#fb9f3a"
             ],
             [
              0.8888888888888888,
              "#fdca26"
             ],
             [
              1,
              "#f0f921"
             ]
            ],
            "type": "surface"
           }
          ],
          "table": [
           {
            "cells": {
             "fill": {
              "color": "#EBF0F8"
             },
             "line": {
              "color": "white"
             }
            },
            "header": {
             "fill": {
              "color": "#C8D4E3"
             },
             "line": {
              "color": "white"
             }
            },
            "type": "table"
           }
          ]
         },
         "layout": {
          "annotationdefaults": {
           "arrowcolor": "#2a3f5f",
           "arrowhead": 0,
           "arrowwidth": 1
          },
          "autotypenumbers": "strict",
          "coloraxis": {
           "colorbar": {
            "outlinewidth": 0,
            "ticks": ""
           }
          },
          "colorscale": {
           "diverging": [
            [
             0,
             "#8e0152"
            ],
            [
             0.1,
             "#c51b7d"
            ],
            [
             0.2,
             "#de77ae"
            ],
            [
             0.3,
             "#f1b6da"
            ],
            [
             0.4,
             "#fde0ef"
            ],
            [
             0.5,
             "#f7f7f7"
            ],
            [
             0.6,
             "#e6f5d0"
            ],
            [
             0.7,
             "#b8e186"
            ],
            [
             0.8,
             "#7fbc41"
            ],
            [
             0.9,
             "#4d9221"
            ],
            [
             1,
             "#276419"
            ]
           ],
           "sequential": [
            [
             0,
             "#0d0887"
            ],
            [
             0.1111111111111111,
             "#46039f"
            ],
            [
             0.2222222222222222,
             "#7201a8"
            ],
            [
             0.3333333333333333,
             "#9c179e"
            ],
            [
             0.4444444444444444,
             "#bd3786"
            ],
            [
             0.5555555555555556,
             "#d8576b"
            ],
            [
             0.6666666666666666,
             "#ed7953"
            ],
            [
             0.7777777777777778,
             "#fb9f3a"
            ],
            [
             0.8888888888888888,
             "#fdca26"
            ],
            [
             1,
             "#f0f921"
            ]
           ],
           "sequentialminus": [
            [
             0,
             "#0d0887"
            ],
            [
             0.1111111111111111,
             "#46039f"
            ],
            [
             0.2222222222222222,
             "#7201a8"
            ],
            [
             0.3333333333333333,
             "#9c179e"
            ],
            [
             0.4444444444444444,
             "#bd3786"
            ],
            [
             0.5555555555555556,
             "#d8576b"
            ],
            [
             0.6666666666666666,
             "#ed7953"
            ],
            [
             0.7777777777777778,
             "#fb9f3a"
            ],
            [
             0.8888888888888888,
             "#fdca26"
            ],
            [
             1,
             "#f0f921"
            ]
           ]
          },
          "colorway": [
           "#636efa",
           "#EF553B",
           "#00cc96",
           "#ab63fa",
           "#FFA15A",
           "#19d3f3",
           "#FF6692",
           "#B6E880",
           "#FF97FF",
           "#FECB52"
          ],
          "font": {
           "color": "#2a3f5f"
          },
          "geo": {
           "bgcolor": "white",
           "lakecolor": "white",
           "landcolor": "#E5ECF6",
           "showlakes": true,
           "showland": true,
           "subunitcolor": "white"
          },
          "hoverlabel": {
           "align": "left"
          },
          "hovermode": "closest",
          "mapbox": {
           "style": "light"
          },
          "paper_bgcolor": "white",
          "plot_bgcolor": "#E5ECF6",
          "polar": {
           "angularaxis": {
            "gridcolor": "white",
            "linecolor": "white",
            "ticks": ""
           },
           "bgcolor": "#E5ECF6",
           "radialaxis": {
            "gridcolor": "white",
            "linecolor": "white",
            "ticks": ""
           }
          },
          "scene": {
           "xaxis": {
            "backgroundcolor": "#E5ECF6",
            "gridcolor": "white",
            "gridwidth": 2,
            "linecolor": "white",
            "showbackground": true,
            "ticks": "",
            "zerolinecolor": "white"
           },
           "yaxis": {
            "backgroundcolor": "#E5ECF6",
            "gridcolor": "white",
            "gridwidth": 2,
            "linecolor": "white",
            "showbackground": true,
            "ticks": "",
            "zerolinecolor": "white"
           },
           "zaxis": {
            "backgroundcolor": "#E5ECF6",
            "gridcolor": "white",
            "gridwidth": 2,
            "linecolor": "white",
            "showbackground": true,
            "ticks": "",
            "zerolinecolor": "white"
           }
          },
          "shapedefaults": {
           "line": {
            "color": "#2a3f5f"
           }
          },
          "ternary": {
           "aaxis": {
            "gridcolor": "white",
            "linecolor": "white",
            "ticks": ""
           },
           "baxis": {
            "gridcolor": "white",
            "linecolor": "white",
            "ticks": ""
           },
           "bgcolor": "#E5ECF6",
           "caxis": {
            "gridcolor": "white",
            "linecolor": "white",
            "ticks": ""
           }
          },
          "title": {
           "x": 0.05
          },
          "xaxis": {
           "automargin": true,
           "gridcolor": "white",
           "linecolor": "white",
           "ticks": "",
           "title": {
            "standoff": 15
           },
           "zerolinecolor": "white",
           "zerolinewidth": 2
          },
          "yaxis": {
           "automargin": true,
           "gridcolor": "white",
           "linecolor": "white",
           "ticks": "",
           "title": {
            "standoff": 15
           },
           "zerolinecolor": "white",
           "zerolinewidth": 2
          }
         }
        },
        "title": {
         "text": "Wasserstein Distance Between Quarters"
        },
        "xaxis": {
         "title": {
          "text": "Quarter"
         }
        },
        "yaxis": {
         "title": {
          "text": "Quarter"
         }
        }
       }
      }
     },
     "metadata": {},
     "output_type": "display_data"
    }
   ],
   "source": [
    "# Wasserstein Distance Calculation and Heatmap\n",
    "\n",
    "# get unique quarters\n",
    "quarters = sorted(vectors_df['quarter'].unique())\n",
    "features = [f'feature_{i+1}' for i in range(16)]\n",
    "n = len(quarters)\n",
    "\n",
    "# collect feature arrays for each quarter\n",
    "quarter_feature_arrays = []\n",
    "for q in quarters:\n",
    "    q_vectors = vectors_df.filter(pl.col('quarter') == q).select(features).to_numpy()\n",
    "    quarter_feature_arrays.append(q_vectors)\n",
    "\n",
    "# compute pairwise Wasserstein distances (average over features)\n",
    "wasserstein_matrix = np.zeros((n, n))\n",
    "for i in range(n):\n",
    "    for j in range(n):\n",
    "        # average Wasserstein distance over all features\n",
    "        dists = []\n",
    "        for f in range(len(features)):\n",
    "            arr1 = quarter_feature_arrays[i][:, f]\n",
    "            arr2 = quarter_feature_arrays[j][:, f]\n",
    "            dist = scipy.stats.wasserstein_distance(arr1, arr2)\n",
    "            dists.append(dist)\n",
    "        wasserstein_matrix[i, j] = np.mean(dists)\n",
    "\n",
    "# plot heatmap\n",
    "fig = go.Figure(\n",
    "    data=go.Heatmap(\n",
    "        z=wasserstein_matrix,\n",
    "        x=quarters,\n",
    "        y=quarters,\n",
    "        colorscale='RdBu_r',  # blue=low, red=high\n",
    "        text=np.round(wasserstein_matrix, 3),  # round for readability\n",
    "        texttemplate='%{text}',\n",
    "        zmin=0,\n",
    "        zmax=np.max(wasserstein_matrix)\n",
    "    )\n",
    ")\n",
    "fig.update_layout(\n",
    "    title='Wasserstein Distance Between Quarters',\n",
    "    xaxis_title='Quarter',\n",
    "    yaxis_title='Quarter'\n",
    ")\n",
    "fig.show()"
   ]
  },
  {
   "cell_type": "code",
   "execution_count": 11,
   "metadata": {},
   "outputs": [
    {
     "data": {
      "application/vnd.plotly.v1+json": {
       "config": {
        "plotlyServerURL": "https://plot.ly"
       },
       "data": [
        {
         "marker": {
          "color": "red",
          "size": 10
         },
         "mode": "markers",
         "name": "q1 mean",
         "showlegend": true,
         "type": "scatter",
         "x": [
          0.01839364149361511
         ],
         "y": [
          0.49246845714598575
         ]
        },
        {
         "line": {
          "color": "red",
          "dash": "dot",
          "width": 2
         },
         "mode": "lines",
         "name": "q1 1 std dev",
         "showlegend": true,
         "type": "scatter",
         "x": {
          "bdata": "2PMdcwKzAUDND6+I9qkBQEwwrhzcjgFA0NphH89hAUBHlT4B/iIBQJQFCIOp0gBAjkERcyRxAEDiO8Kvpv3/P5LyJBFY+P4/sqi2ZmrT/T923m+lC5D8PzQPkiOJL/s/gEsLQU6z+T+CJOPw4hz4PzYHMyXqbfY/FoNKHyCo9D9sp7ylWM3yP2KHLiJ93/A/mOWvURXB7T+W33zXH6XpP5fNjjdWb+U/UVWicw8k4T8q90tocY/ZPxlqSXChvdA/Xpp4mBlvvz/yYsVafM+Qvzl1JhLU5sO/qeMauGPO0r8hq975w5TbvxApuJi/HuK/wPRpKNRf5r8k1T0GPYnqv1LU4/Kvlu6/5uLNwP9B8b+KE0yzjybzvyBUnVEU9/S/Wpnuxa6x9r8i9IDRllT4v3g++KIc3vm/Tqh7k6pM+79US93Ixp78vyK7GbsU0/2/chCem1bo/r8UF+Kcbt3/v4x1ggywWADAICoeS6ixAMCzNAVURPkAwIyqKFY6LwHA/SnBsVJTAcB0hqUxaGUBwHSGpTFoZQHA/SnBsVJTAcCMqihWOi8BwLM0BVRE+QDAICoeS6ixAMCMdYIMsFgAwBQX4pxu3f+/chCem1bo/r8guxm7FNP9v1ZL3cjGnvy/TKh7k6pM+796PviiHN75vyD0gNGWVPi/Wpnuxa6x9r8eVJ1RFPf0v4wTTLOPJvO/4OLNwP9B8b9P1OPyr5buvyTVPQY9ieq/xPRpKNRf5r8IKbiYvx7ivxqr3vnDlNu/qeMauGPO0r9NdSYS1ObDv+phxVp8z5C/fZp4mBlvvz8Qaklwob3QPxn3S2hxj9k/VFWicw8k4T+WzY43Vm/lP5HffNcfpek/oOWvURXB7T9khy4ifd/wP2ynvKVYzfI/EoNKHyCo9D86BzMl6m32P4Qk4/DiHPg/gEsLQU6z+T8yD5IjiS/7P3jeb6ULkPw/sqi2ZmrT/T+S8iQRWPj+P+A7wq+m/f8/j0ERcyRxAECUBQiDqdIAQEeVPgH+IgFA0dphH89hAUBMMK4c3I4BQM0Pr4j2qQFA2PMdcwKzAUA=",
          "dtype": "f8"
         },
         "y": {
          "bdata": "wjpwa5qE3z8m0qykICDkP/pcK8xzeeg/UOqICMvJ7D/+dXT8WYbwP7cTWgrlnvI/iiBlmV2s9D90bOH+paz2PxZpUyiunfg/wFDRu3V9+j9+sCcoDkr8P2bpqKKcAf4//CKaEFyi/z8KliJtT5UAQHjp5lJoTAFAkxwB/Lv1AUAVPbzcm5ACQFJENE9oHANAnajnN5GYA0Bu7UOalgQEQIIRlBwJYARAodvIeoqqBEAKtKTnzeMEQPHf5luYCwVAKYMk08AhBUDkrhB2MCYFQNXnB7LiGAVAZd7GPeX5BEAcfUcLWMkEQK3f0iZthwRAkCRqg2g0BEBYR7u0n9ADQKU36pZ5XANAphuJ5G3YAkB0Ci27BEUCQHF3Hg/WogFAVfG1DonyAEAHrAZ20zQAQDL1EKfx1P4/8KoEfZMo/T/ocQoARmb7P2IDql7Zj/k/RMRThTKn9z8THoIqSa71P2CNfMclp/M/9qLTf9+T8T9GC37zM+3uPzwtLFMGo+o/iE1SJaJN5j9UOpj/fvHhP9UAsNc2Jts/bNo7jPBt0j8KNhBhUIbDPyDwRf7O7JI/cFm4oSQZvb/ofyOOxCbPv84CKNPvr9e/gJtuPpWT378FzONRGJvjvwmppJTxR+e/IxuZjozM6r+fr7HiSCXuv646VbZZp/C/SMWz58Qi8r+C0YToXoPzv4b3oUC8x/S/7Blak47u9b/qURz4pfb2v05xvjPy3ve/wCsc0YOm+L/8oe0XjUz5v9jc1uBi0Pm/ap/VRX0x+r9IslcueG/6v2hAabYTivq/8uiQcDSB+r+CohWC41T6v7RKkZlOBfq/4pnZv8eS+b+kBXADxf34v3y9z/7fRvi/2DMXOtVu979Ca7Bog3b2v8pcwIPqXvW/xhtKwiop9L+MtRVwg9byv7IOjaRRaPG/NwvEtR3A778PmOHZnn7svzcm3+SBD+m/vWYyDFF25b9tlzblwbbhv1Y8pSRjqdu/lgy0jkGo07+wsg+lvuTGv+ATi9eYgai/3IM6F3vWtT80dxN9mizMPzbRho3zyNY/uTpwa5qE3z8=",
          "dtype": "f8"
         }
        },
        {
         "marker": {
          "color": "green",
          "size": 10
         },
         "mode": "markers",
         "name": "q2 mean",
         "showlegend": true,
         "type": "scatter",
         "x": [
          0.0659959934585614
         ],
         "y": [
          0.15000318761347775
         ]
        },
        {
         "line": {
          "color": "green",
          "dash": "dot",
          "width": 2
         },
         "mode": "lines",
         "name": "q2 1 std dev",
         "showlegend": true,
         "type": "scatter",
         "x": {
          "bdata": "WRSX9nPNAkBJmGW4CMQCQE7dYLPQpwJAaOM1/uh4AkCPv7LygTcCQH5M7/ve4wFAuR7OUFZ+AUArXx2bUAcBQKsos4tIfwBA9D7pt5TN/z/MQpR65nz+P/MdK27hDf0/62uj5/+B+z8Rgib82dr5P/hcaNwjGvg/wDsFE6xB9j+1Z7WnWVP0P3amQikqUfI/ddpEoC898D+Mi4bZHDPsP9lJ2yH20Oc/s6ln1m9Y4z92b0+IS5zdP+aeExCMbdQ/Jp6Q7zBcxj/cOGGwkneePx3KRhkIc72/YMhWwwuV0L/NodEC47fZv3oKoWvuXeG/wfINEtfL5b+6qBuZGiHqvzTMyoxBWe6/v1yxPfk38b8/W5o4ezDzvwh3aKgeFPW/OV6ZAfHg9r+qisk9F5X4v1DBXsXPLvq/JRz7PnSs+7984tpCewz9vwJnXPB5Tf6/f+MPZCVu/7+m3WYGqjYAwEzFOW//pADAxeiFMKEBAcDiW6TNL0wBwMIZsGtehAHAflO/IPOpAcB5T5Yvx7wBwHlPli/HvAHAflO/IPOpAcDCGbBrXoQBwOJbpM0vTAHAxeiFMKEBAcBMxTlv/6QAwKbdZgaqNgDAgeMPZCVu/78BZ1zweU3+v33i2kJ7DP2/JBz7PnSs+79RwV7Fzy76v6mKyT0Xlfi/Ol6ZAfHg9r8Gd2ioHhT1v0Fbmjh7MPO/uVyxPfk38b8wzMqMQVnuv7qoG5kaIeq/xvINEtfL5b9yCqFr7l3hv8Wh0QLjt9m/YMhWwwuV0L9HykYZCHO9v/A5YbCSd54/Np6Q7zBcxj/dnhMQjG3UP2RvT4hLnN0/t6ln1m9Y4z/YSdsh9tDnP4eLhtkcM+w/edpEoC898D93pkIpKlHyP7VntadZU/Q/vTsFE6xB9j/7XGjcIxr4PxKCJvzZ2vk/6Wuj5/+B+z/xHStu4Q39P85ClHrmfP4/9D7pt5TN/z+rKLOLSH8AQCpfHZtQBwFAuh7OUFZ+AUB+TO/73uMBQI+/svKBNwJAaeM1/uh4AkBO3WCz0KcCQEmYZbgIxAJAWRSX9nPNAkA=",
          "dtype": "f8"
         },
         "y": {
          "bdata": "6D2M8E0zwz+s1HArUf7RPy5YtXpUWto/fc2qdolS4T93J9krAGvlP3v3c5VVcuk/n4h+lGJk7T/ISSr9ip7wP7QV+Fw8fPI/UO4f/1hJ9D8nNKuQBQT2P9LQLsB5qvc/ZCMtFAI7+T8MifurAbT6P4nGXOnzE/w/y5kZAW5Z/T9cgvpwIIP+PwdAoVnYj/8/qsJuXUA/AECgZJvIEacAQJ5wwmn1/gBAFP3Ip5BGAUCKQHGymX0BQEI5cc7XowFA7JjtjyO5AUAerBwDZ70BQB5a58KdsAFAUOlw/dSSAUDU3IBmK2QBQKvs3BfRJAFAJLizXwfVAEAOT0t9IHUAQGD2OEx/BQBA8xrzvC0N/z9UP6cL1PH9P8zP+pkVuvw/RpEjwjNn+z9Xzd7Xi/r5P6dFWcCVdfg/Dxa0buLZ9j8z8rVGGin1P0TKUmf7ZPM/RcvM3leP8T82jJGUJ1TvP/9visVGbus//7zs8hFx5z/gvzXLpWDjP80prpdlgt4/E81V3/Et1j8+K8I1DZnLPwahrFYdm7U/lHlMdh/Vp7/Y10NOL57Gv9BB36X9jdO/HjxN9dWu278HUUTNn9Thv0VtS5yAuuW/kndTxQiF6b+WdV/WTzDtv7fikspGXPC/lgaR8g4N8r8sNjZEwqjzv969u1u4LfW/y4EARmCa9r9TwNcdQu33v9kvhI8AJfm/ewvQQFpA+r9J3U4cKz77v6KOc35tHfy/zGBEQzvd/L/dyZazznz9vy+q3lCD+/2/J8O+ftZY/r/DpKsJaJT+v8FIFor6rf6/XSK4o3Ol/r8LY78g3Hr+v5txv+hfLv6/repu003A/b/D0WFXFzH9v8a5ExVQgfy/2XW6Pq2x+7+LMH7dBMP6v+Jy1/RMtvm/Uor2hJqM+L8NtzltIEf3v5F52C8u5/W/6hMKmC5u9L9bwQtEpt3yv6skiBQyN/G/rL35BQv57r92DKrB0V7rv6J0DgJvo+e/pWk4nLvK478OsVs6XbHfvwwRJmeyote/ALqS+Ynjzr/4aKQoGpy8v7iTtlHMT5M/1j2M8E0zwz8=",
          "dtype": "f8"
         }
        },
        {
         "marker": {
          "color": "blue",
          "size": 10
         },
         "mode": "markers",
         "name": "q3 mean",
         "showlegend": true,
         "type": "scatter",
         "x": [
          0.003981296782136239
         ],
         "y": [
          -0.18779165226662659
         ]
        },
        {
         "line": {
          "color": "blue",
          "dash": "dot",
          "width": 2
         },
         "mode": "lines",
         "name": "q3 1 std dev",
         "showlegend": true,
         "type": "scatter",
         "x": {
          "bdata": "Z6v1YMkBA0A+g8CzAfgCQOsc+cC02gJAEUvDvACqAkDIK2zbF2YCQHC6qR1ADwJALMFxCNOlAUB6jLJIPSoBQDqATEP+nABAKxGAI0/9/z/OiS7YuJ/+P4pGTAGiIv0/NbicdJOH+z+ihg3sNND5P6VK7VBL/vc/bZ8M6bYT9j/czapncRL0P5tnLOSL/PE/o1hqcVmo7z853a6VGjfrPyuLQ4HvqeY/+SjQSIkF4j+++9rmYZ3aP+KruBeFFNE/DLYW8UDpvT9NJF+UtTqhv+z07R0Ejce/+ctfwkZZ1b80uqx+xtXevx/pOPUcGeS/e0C5Wn2y6L+1torFRjLtv2NiIvbqyfC/WUUiV1Pp8r/517ddLPX0v1wShgta6/a/xSmDuNbJ+L/jFpUotY76vzN6AYgiOPy/PMOkTGjE/b82jgD67TH/v5mdJ2OdPwDANlh1j3vVAMBT9DoF91kBwKwcrjOHzAHASACvArYsAsALQIRMIHoCwJD2DkR2tALAz38Nx3vbAsCsNBicCO8CwKw0GJwI7wLAz38Nx3vbAsCQ9g5EdrQCwAtAhEwgegLASACvArYsAsCtHK4zh8wBwFP0OgX3WQHANlh1j3vVAMCZnSdjnT8AwDeOAPrtMf+/O8OkTGjE/b80egGIIjj8v+IWlSi1jvq/ximDuNbJ+L9aEoYLWuv2v/zXt10s9fS/U0UiV1Pp8r9hYiL26snwv7W2isVGMu2/f0C5Wn2y6L8W6Tj1HBnkvyy6rH7G1d6/+ctfwkZZ1b8C9e0dBI3Hv70jX5S1OqG/LrYW8UDpvT/Yq7gXhRTRP6v72uZhndo//ijQSIkF4j8pi0OB76nmPzTdrpUaN+s/rFhqcVmo7z+dZyzki/zxP9zNqmdxEvQ/ap8M6bYT9j+pSu1QS/73P6OGDew00Pk/NLicdJOH+z+IRkwBoiL9P9CJLti4n/4/KxGAI0/9/z86gExD/pwAQHmMskg9KgFALcFxCNOlAUBwuqkdQA8CQMgrbNsXZgJAEkvDvACqAkDrHPnAtNoCQD6DwLMB+AJAZ6v1YMkBA0A=",
          "dtype": "f8"
         },
         "y": {
          "bdata": "KjZ5jo4JyL/sbwr9Kdauv3RISGxJG7E/Sk6TkTuvyD+faSiaTE/UP/mZkUKoJdw/HJnBR07p4T8mmEP+H6flPzgJk+1tSOk/7hs5I3rJ7D9xd372UxPwP935Csk/rvE/q5Ig89gz8z9L44TZjaL0Pz274Hnk+PU/UQ5p8Hs19z95K6PjDVf4P985zdRvXPk/QDWQU5RE+j/XO74TjA77P/Lf/uOGufs/pTZrhNRE/D8najxc5a/8P7iH0Q1L+vw/W/Nz6Lgj/T9JO2U3BCz9P23N5G0kE/0//i0AMDPZ/D9dmSQ4bH78PyVQjRktA/w/9wTO3/Rn+z+n2tyLY636Px/yIm851Pk/04w9ZVbd+D/aHjztuMn3P1ovSSN9mvY/aXTMm9tQ9T/4DjQhKO7zPxkMsVXQc/I/qzpQOlrj8D8qtec5xXzuP84fmd02Des/Qn0QCpR75z8C0weLisvjPwyTxILnAOA/1fTt/SY/2D+SV6viHFfQP6jOckCuo8A/wFEAsCLNaz/1hVEK/ry/v7TU5AtPGtC/1DbZ0yhB2L/CTlnXsi3gv9pGkrhVMOS/gpUzxlok6L8eLgHKrgXsvxpuRNJR0O+/KYymqC3A8b9y3WoS/4jzvx0okkDGQPW/Noju3b3l9r+iWU/5M3b4v4Nc0sSL8Pm/8sFqPz9T+7/lfOfG4Jz8v2Ns2pAczP2/X9rbCLrf/r+qP8ESndb/vxmUvZfjVwDAQCm2QSy1AMDYzpVeyAIBwHRz4e1nQAHAxD3PacttAcB7jcEIxIoBwGrEge0zlwHAcyAJRg6TAcCh6rdYV34BwNlb7X8kWQHAGMIEFJwjAcC+ls5D9d0AwLFErtt3iADAZUGX+3sjAMBoh2t4017/vwN5QYdxWf6/3FsHlN83/b/FCH8dSPv7v9QwI33xpPq/NeC+ljw2+b9qR6lso7D3v/nEHJq3Ffa/gds6tSBn9L8o0meamqbyv6AZwKLz1fC/KjT+jhXu7b8SaIVomxfqv+jPUJRtLOa/n26hK5Yw4r8/SIvpYFDcvy3o107JLtS/PDZ5jo4JyL8=",
          "dtype": "f8"
         }
        },
        {
         "marker": {
          "color": "orange",
          "size": 10
         },
         "mode": "markers",
         "name": "q4 mean",
         "showlegend": true,
         "type": "scatter",
         "x": [
          -0.08663378938354302
         ],
         "y": [
          -0.3789526792006711
         ]
        },
        {
         "line": {
          "color": "orange",
          "dash": "dot",
          "width": 2
         },
         "mode": "lines",
         "name": "q4 1 std dev",
         "showlegend": true,
         "type": "scatter",
         "x": {
          "bdata": "Gq/RZIEFAkBHMY0Y3PsBQN+WJyX23gFAFKGYVO2uAUD+77Iq82sBQGd/GbJMFgFA4UAUNVKuAEAnMI3ibjQAQFxlJ79AUv8/8E2wi+wZ/j/dS0ofI8H8PwEa3uNHSfs/rb1JSt6z+T8dnv46iAL4P1SjN2cEN/Y/H22DfCxT9D9mSX0881jyP189rHpiSvA/qTY0BTJT7D9gRJrQkPHnP+3XyYpldOM/8Je9lKHA3T/wbnCIFXTUP3eUGbh5GcY/kC6AsJFEmT8Z7200Cq6/v7gUA13baNG/amt+G/nZ2r/n4HcVkBriv3ek2shVuOa/n+iddYtB679Gq70bhLHvv6IgsF/WAfK/K9P0j8gZ9L8KirAncB72vzugtpK4Dfi/95WoRKPl+b/g1T7HSaT7v3hWva/fR/2/CS+PebTO/r+g8Q+imhsAwEVnEzn3vwDAZEtclMZTAcBF40lWcNYBwO0+IM5tRwLA47XfgkqmAsAZ6VSrpPICwNCG5ZItLAPASeix6qlSA8Bx57cG8mUDwHHntwbyZQPASeix6qlSA8DQhuWSLSwDwBnpVKuk8gLA47XfgkqmAsDuPiDObUcCwEXjSVZw1gHAZUtclMZTAcBEZxM5978AwKDxD6KaGwDACC+PebTO/r95Vr2v30f9v9/VPsdJpPu/+JWoRKPl+b84oLaSuA34vwyKsCdwHva/JdP0j8gZ9L+gILBf1gHyv0arvRuEse+/o+iddYtB679vpNrIVbjmv+PgdxWQGuK/amt+G/nZ2r/DFANd22jRv9LubTQKrr+/GC+AsJFEmT9jlBm4eRnGP9xucIgVdNQ/+Je9lKHA3T/s18mKZXTjP1tEmtCQ8ec/sTY0BTJT7D9hPax6YkrwP2ZJfTzzWPI/HG2DfCxT9D9XozdnBDf2Px6e/jqIAvg/q71JSt6z+T//Gd7jR0n7P+BLSh8jwfw/8E2wi+wZ/j9cZSe/QFL/PyYwjeJuNABA4kAUNVKuAEBnfxmyTBYBQP7vsirzawFAFKGYVO2uAUDflicl9t4BQEcxjRjc+wFAGq/RZIEFAkA=",
          "dtype": "f8"
         },
         "y": {
          "bdata": "ZoD5vMJA2L/BeMb5k3DQvyrm7BbmUMG/QAZgMa8Mjr8EOLkaf766P6z7sguBX8w/gl3AdEGI1T+SJqMckLHcPxExt1Yl0uE/dSDlzKMs5T+lppV8zmToP58SJNRTd+s/ZcVNEAlh7j9AU/m/do/wP/jAO84W1/E/gMDM+RIG8z/W9tjvMhv0P4hDzgVZFfU/BlTUX4Pz9T/2E5v6zLT2P8b6bJduWPc/kN2Rib/d9z/wjS5kNkT4PxgK7odpi/g/cjfijw+z+D++6yud/7r4P/BHHIExo/g/wvajxb1r+D9unQeU3RT4P4aR83nqnvc/QJErDV4K9z/KpjVu0Vf2P7pogar8h/U/2E2u/rWb9D/SprT58JPzP3Tj1IG9cfI/NPFPvEY28T/bOxOyo8XvP7+7pYZ58ew/kf5qcvny6T9lPGqVOc3mPzjmI4V4g+M/PI5i9BkZ4D+uWpNpRiPZPyCSeCtv4dE/KNZkkVLoxD/Q7agG5RinP6TR8C2oJ7O/o2S2SQIWyb+dTSRlKljUvzazzhRbKdy/QeeLKkL74b80Zju3zdvlvz4PZA1Rsum/87VSYdd67b+55FopvZjwv+CW4fgyafK/TweuWO4s9L9Qsw6hHeL1v2TeMSn+hve/fD+yF94Z+b8Sns8hHpn6vyJehjczA/y/ZrHMGqhW/b+oo1HgHpL+vwRnMVhStP+/B4eVrgteAMB3FH8EL9QAwH4zWWYZPAHAuSjUtV+VAcDdKDjspd8BwNEuQnmfGgLAelsQkg9GAsARhMxvyWECwPlV1H2wbQLA0nsvd7hpAsAmZTVz5VUCwBKnVeFLMgLA4k4HdBD/AcB83fT6Z7wBwBXqiyyXagHAHIooX/IJAcDdgSUy3ZoAwITbKifKHQDAtIBJWHQm/78ogbgsePf9v3ITdh7Yr/y/5qKj5uVQ+7+GyY5IC9z5v4STx5zIUvi/blDvRLO29r+8WNgJdAn1v9qJpWXFTPO/kNesu3GC8b9RP+b/oljvv2qnUKCSmOu/RAA0AJDI57/YRj43iezjvwZEFsB4COC/boD5vMJA2L8=",
          "dtype": "f8"
         }
        }
       ],
       "layout": {
        "legend": {
         "title": {
          "text": "Quarter"
         }
        },
        "plot_bgcolor": "white",
        "template": {
         "data": {
          "bar": [
           {
            "error_x": {
             "color": "#2a3f5f"
            },
            "error_y": {
             "color": "#2a3f5f"
            },
            "marker": {
             "line": {
              "color": "#E5ECF6",
              "width": 0.5
             },
             "pattern": {
              "fillmode": "overlay",
              "size": 10,
              "solidity": 0.2
             }
            },
            "type": "bar"
           }
          ],
          "barpolar": [
           {
            "marker": {
             "line": {
              "color": "#E5ECF6",
              "width": 0.5
             },
             "pattern": {
              "fillmode": "overlay",
              "size": 10,
              "solidity": 0.2
             }
            },
            "type": "barpolar"
           }
          ],
          "carpet": [
           {
            "aaxis": {
             "endlinecolor": "#2a3f5f",
             "gridcolor": "white",
             "linecolor": "white",
             "minorgridcolor": "white",
             "startlinecolor": "#2a3f5f"
            },
            "baxis": {
             "endlinecolor": "#2a3f5f",
             "gridcolor": "white",
             "linecolor": "white",
             "minorgridcolor": "white",
             "startlinecolor": "#2a3f5f"
            },
            "type": "carpet"
           }
          ],
          "choropleth": [
           {
            "colorbar": {
             "outlinewidth": 0,
             "ticks": ""
            },
            "type": "choropleth"
           }
          ],
          "contour": [
           {
            "colorbar": {
             "outlinewidth": 0,
             "ticks": ""
            },
            "colorscale": [
             [
              0,
              "#0d0887"
             ],
             [
              0.1111111111111111,
              "#46039f"
             ],
             [
              0.2222222222222222,
              "#7201a8"
             ],
             [
              0.3333333333333333,
              "#9c179e"
             ],
             [
              0.4444444444444444,
              "#bd3786"
             ],
             [
              0.5555555555555556,
              "#d8576b"
             ],
             [
              0.6666666666666666,
              "#ed7953"
             ],
             [
              0.7777777777777778,
              "#fb9f3a"
             ],
             [
              0.8888888888888888,
              "#fdca26"
             ],
             [
              1,
              "#f0f921"
             ]
            ],
            "type": "contour"
           }
          ],
          "contourcarpet": [
           {
            "colorbar": {
             "outlinewidth": 0,
             "ticks": ""
            },
            "type": "contourcarpet"
           }
          ],
          "heatmap": [
           {
            "colorbar": {
             "outlinewidth": 0,
             "ticks": ""
            },
            "colorscale": [
             [
              0,
              "#0d0887"
             ],
             [
              0.1111111111111111,
              "#46039f"
             ],
             [
              0.2222222222222222,
              "#7201a8"
             ],
             [
              0.3333333333333333,
              "#9c179e"
             ],
             [
              0.4444444444444444,
              "#bd3786"
             ],
             [
              0.5555555555555556,
              "#d8576b"
             ],
             [
              0.6666666666666666,
              "#ed7953"
             ],
             [
              0.7777777777777778,
              "#fb9f3a"
             ],
             [
              0.8888888888888888,
              "#fdca26"
             ],
             [
              1,
              "#f0f921"
             ]
            ],
            "type": "heatmap"
           }
          ],
          "histogram": [
           {
            "marker": {
             "pattern": {
              "fillmode": "overlay",
              "size": 10,
              "solidity": 0.2
             }
            },
            "type": "histogram"
           }
          ],
          "histogram2d": [
           {
            "colorbar": {
             "outlinewidth": 0,
             "ticks": ""
            },
            "colorscale": [
             [
              0,
              "#0d0887"
             ],
             [
              0.1111111111111111,
              "#46039f"
             ],
             [
              0.2222222222222222,
              "#7201a8"
             ],
             [
              0.3333333333333333,
              "#9c179e"
             ],
             [
              0.4444444444444444,
              "#bd3786"
             ],
             [
              0.5555555555555556,
              "#d8576b"
             ],
             [
              0.6666666666666666,
              "#ed7953"
             ],
             [
              0.7777777777777778,
              "#fb9f3a"
             ],
             [
              0.8888888888888888,
              "#fdca26"
             ],
             [
              1,
              "#f0f921"
             ]
            ],
            "type": "histogram2d"
           }
          ],
          "histogram2dcontour": [
           {
            "colorbar": {
             "outlinewidth": 0,
             "ticks": ""
            },
            "colorscale": [
             [
              0,
              "#0d0887"
             ],
             [
              0.1111111111111111,
              "#46039f"
             ],
             [
              0.2222222222222222,
              "#7201a8"
             ],
             [
              0.3333333333333333,
              "#9c179e"
             ],
             [
              0.4444444444444444,
              "#bd3786"
             ],
             [
              0.5555555555555556,
              "#d8576b"
             ],
             [
              0.6666666666666666,
              "#ed7953"
             ],
             [
              0.7777777777777778,
              "#fb9f3a"
             ],
             [
              0.8888888888888888,
              "#fdca26"
             ],
             [
              1,
              "#f0f921"
             ]
            ],
            "type": "histogram2dcontour"
           }
          ],
          "mesh3d": [
           {
            "colorbar": {
             "outlinewidth": 0,
             "ticks": ""
            },
            "type": "mesh3d"
           }
          ],
          "parcoords": [
           {
            "line": {
             "colorbar": {
              "outlinewidth": 0,
              "ticks": ""
             }
            },
            "type": "parcoords"
           }
          ],
          "pie": [
           {
            "automargin": true,
            "type": "pie"
           }
          ],
          "scatter": [
           {
            "fillpattern": {
             "fillmode": "overlay",
             "size": 10,
             "solidity": 0.2
            },
            "type": "scatter"
           }
          ],
          "scatter3d": [
           {
            "line": {
             "colorbar": {
              "outlinewidth": 0,
              "ticks": ""
             }
            },
            "marker": {
             "colorbar": {
              "outlinewidth": 0,
              "ticks": ""
             }
            },
            "type": "scatter3d"
           }
          ],
          "scattercarpet": [
           {
            "marker": {
             "colorbar": {
              "outlinewidth": 0,
              "ticks": ""
             }
            },
            "type": "scattercarpet"
           }
          ],
          "scattergeo": [
           {
            "marker": {
             "colorbar": {
              "outlinewidth": 0,
              "ticks": ""
             }
            },
            "type": "scattergeo"
           }
          ],
          "scattergl": [
           {
            "marker": {
             "colorbar": {
              "outlinewidth": 0,
              "ticks": ""
             }
            },
            "type": "scattergl"
           }
          ],
          "scattermap": [
           {
            "marker": {
             "colorbar": {
              "outlinewidth": 0,
              "ticks": ""
             }
            },
            "type": "scattermap"
           }
          ],
          "scattermapbox": [
           {
            "marker": {
             "colorbar": {
              "outlinewidth": 0,
              "ticks": ""
             }
            },
            "type": "scattermapbox"
           }
          ],
          "scatterpolar": [
           {
            "marker": {
             "colorbar": {
              "outlinewidth": 0,
              "ticks": ""
             }
            },
            "type": "scatterpolar"
           }
          ],
          "scatterpolargl": [
           {
            "marker": {
             "colorbar": {
              "outlinewidth": 0,
              "ticks": ""
             }
            },
            "type": "scatterpolargl"
           }
          ],
          "scatterternary": [
           {
            "marker": {
             "colorbar": {
              "outlinewidth": 0,
              "ticks": ""
             }
            },
            "type": "scatterternary"
           }
          ],
          "surface": [
           {
            "colorbar": {
             "outlinewidth": 0,
             "ticks": ""
            },
            "colorscale": [
             [
              0,
              "#0d0887"
             ],
             [
              0.1111111111111111,
              "#46039f"
             ],
             [
              0.2222222222222222,
              "#7201a8"
             ],
             [
              0.3333333333333333,
              "#9c179e"
             ],
             [
              0.4444444444444444,
              "#bd3786"
             ],
             [
              0.5555555555555556,
              "#d8576b"
             ],
             [
              0.6666666666666666,
              "#ed7953"
             ],
             [
              0.7777777777777778,
              "#fb9f3a"
             ],
             [
              0.8888888888888888,
              "#fdca26"
             ],
             [
              1,
              "#f0f921"
             ]
            ],
            "type": "surface"
           }
          ],
          "table": [
           {
            "cells": {
             "fill": {
              "color": "#EBF0F8"
             },
             "line": {
              "color": "white"
             }
            },
            "header": {
             "fill": {
              "color": "#C8D4E3"
             },
             "line": {
              "color": "white"
             }
            },
            "type": "table"
           }
          ]
         },
         "layout": {
          "annotationdefaults": {
           "arrowcolor": "#2a3f5f",
           "arrowhead": 0,
           "arrowwidth": 1
          },
          "autotypenumbers": "strict",
          "coloraxis": {
           "colorbar": {
            "outlinewidth": 0,
            "ticks": ""
           }
          },
          "colorscale": {
           "diverging": [
            [
             0,
             "#8e0152"
            ],
            [
             0.1,
             "#c51b7d"
            ],
            [
             0.2,
             "#de77ae"
            ],
            [
             0.3,
             "#f1b6da"
            ],
            [
             0.4,
             "#fde0ef"
            ],
            [
             0.5,
             "#f7f7f7"
            ],
            [
             0.6,
             "#e6f5d0"
            ],
            [
             0.7,
             "#b8e186"
            ],
            [
             0.8,
             "#7fbc41"
            ],
            [
             0.9,
             "#4d9221"
            ],
            [
             1,
             "#276419"
            ]
           ],
           "sequential": [
            [
             0,
             "#0d0887"
            ],
            [
             0.1111111111111111,
             "#46039f"
            ],
            [
             0.2222222222222222,
             "#7201a8"
            ],
            [
             0.3333333333333333,
             "#9c179e"
            ],
            [
             0.4444444444444444,
             "#bd3786"
            ],
            [
             0.5555555555555556,
             "#d8576b"
            ],
            [
             0.6666666666666666,
             "#ed7953"
            ],
            [
             0.7777777777777778,
             "#fb9f3a"
            ],
            [
             0.8888888888888888,
             "#fdca26"
            ],
            [
             1,
             "#f0f921"
            ]
           ],
           "sequentialminus": [
            [
             0,
             "#0d0887"
            ],
            [
             0.1111111111111111,
             "#46039f"
            ],
            [
             0.2222222222222222,
             "#7201a8"
            ],
            [
             0.3333333333333333,
             "#9c179e"
            ],
            [
             0.4444444444444444,
             "#bd3786"
            ],
            [
             0.5555555555555556,
             "#d8576b"
            ],
            [
             0.6666666666666666,
             "#ed7953"
            ],
            [
             0.7777777777777778,
             "#fb9f3a"
            ],
            [
             0.8888888888888888,
             "#fdca26"
            ],
            [
             1,
             "#f0f921"
            ]
           ]
          },
          "colorway": [
           "#636efa",
           "#EF553B",
           "#00cc96",
           "#ab63fa",
           "#FFA15A",
           "#19d3f3",
           "#FF6692",
           "#B6E880",
           "#FF97FF",
           "#FECB52"
          ],
          "font": {
           "color": "#2a3f5f"
          },
          "geo": {
           "bgcolor": "white",
           "lakecolor": "white",
           "landcolor": "#E5ECF6",
           "showlakes": true,
           "showland": true,
           "subunitcolor": "white"
          },
          "hoverlabel": {
           "align": "left"
          },
          "hovermode": "closest",
          "mapbox": {
           "style": "light"
          },
          "paper_bgcolor": "white",
          "plot_bgcolor": "#E5ECF6",
          "polar": {
           "angularaxis": {
            "gridcolor": "white",
            "linecolor": "white",
            "ticks": ""
           },
           "bgcolor": "#E5ECF6",
           "radialaxis": {
            "gridcolor": "white",
            "linecolor": "white",
            "ticks": ""
           }
          },
          "scene": {
           "xaxis": {
            "backgroundcolor": "#E5ECF6",
            "gridcolor": "white",
            "gridwidth": 2,
            "linecolor": "white",
            "showbackground": true,
            "ticks": "",
            "zerolinecolor": "white"
           },
           "yaxis": {
            "backgroundcolor": "#E5ECF6",
            "gridcolor": "white",
            "gridwidth": 2,
            "linecolor": "white",
            "showbackground": true,
            "ticks": "",
            "zerolinecolor": "white"
           },
           "zaxis": {
            "backgroundcolor": "#E5ECF6",
            "gridcolor": "white",
            "gridwidth": 2,
            "linecolor": "white",
            "showbackground": true,
            "ticks": "",
            "zerolinecolor": "white"
           }
          },
          "shapedefaults": {
           "line": {
            "color": "#2a3f5f"
           }
          },
          "ternary": {
           "aaxis": {
            "gridcolor": "white",
            "linecolor": "white",
            "ticks": ""
           },
           "baxis": {
            "gridcolor": "white",
            "linecolor": "white",
            "ticks": ""
           },
           "bgcolor": "#E5ECF6",
           "caxis": {
            "gridcolor": "white",
            "linecolor": "white",
            "ticks": ""
           }
          },
          "title": {
           "x": 0.05
          },
          "xaxis": {
           "automargin": true,
           "gridcolor": "white",
           "linecolor": "white",
           "ticks": "",
           "title": {
            "standoff": 15
           },
           "zerolinecolor": "white",
           "zerolinewidth": 2
          },
          "yaxis": {
           "automargin": true,
           "gridcolor": "white",
           "linecolor": "white",
           "ticks": "",
           "title": {
            "standoff": 15
           },
           "zerolinecolor": "white",
           "zerolinewidth": 2
          }
         }
        },
        "title": {
         "text": "PCA of Quarter Feature Vectors"
        },
        "xaxis": {
         "title": {
          "text": "PCA 1"
         }
        },
        "yaxis": {
         "title": {
          "text": "PCA 2"
         }
        }
       }
      }
     },
     "metadata": {},
     "output_type": "display_data"
    }
   ],
   "source": [
    "# PCA visualisation of quarters in 2D\n",
    "\n",
    "# import PCA if not already imported\n",
    "from sklearn.decomposition import PCA\n",
    "\n",
    "# prepare data for PCA\n",
    "features = [f'feature_{i+1}' for i in range(16)]\n",
    "quarters = sorted(vectors_df['quarter'].unique())\n",
    "\n",
    "# stack all feature vectors for PCA fit\n",
    "all_vectors = vectors_df.select(features).to_numpy()\n",
    "\n",
    "# fit PCA and transform\n",
    "pca = PCA(n_components=2)\n",
    "all_vectors_2d = pca.fit_transform(all_vectors)\n",
    "\n",
    "# add PCA results to DataFrame\n",
    "vectors_df = vectors_df.with_columns([\n",
    "    pl.Series('pca1', all_vectors_2d[:, 0]),\n",
    "    pl.Series('pca2', all_vectors_2d[:, 1])\n",
    "])\n",
    "\n",
    "# compute means and standard deviations for each quarter\n",
    "quarter_stats = {}\n",
    "for q in quarters:\n",
    "    q_df = vectors_df.filter(pl.col('quarter') == q)\n",
    "    pca1 = q_df['pca1'].to_numpy()\n",
    "    pca2 = q_df['pca2'].to_numpy()\n",
    "    mean = np.array([pca1.mean(), pca2.mean()])\n",
    "    std = np.array([pca1.std(), pca2.std()])\n",
    "    quarter_stats[q] = {'mean': mean, 'std': std}\n",
    "\n",
    "# plot each quarter as dot and circle\n",
    "colour_map = {'q1': 'red', 'q2': 'green', 'q3': 'blue', 'q4': 'orange'}\n",
    "fig = go.Figure()\n",
    "\n",
    "for q in quarters:\n",
    "    mean = quarter_stats[q]['mean']\n",
    "    std = quarter_stats[q]['std']\n",
    "    colour = colour_map.get(q, 'black')\n",
    "    # dot for mean\n",
    "    fig.add_trace(go.Scatter(\n",
    "        x=[mean[0]], y=[mean[1]],\n",
    "        mode='markers',\n",
    "        marker=dict(size=10, color=colour),\n",
    "        name=f'{q} mean',\n",
    "        showlegend=True\n",
    "    ))\n",
    "    # circle for 1 std dev\n",
    "    theta = np.linspace(0, 2 * np.pi, 100)\n",
    "    circle_x = mean[0] + std[0] * np.cos(theta)\n",
    "    circle_y = mean[1] + std[1] * np.sin(theta)\n",
    "    fig.add_trace(go.Scatter(\n",
    "        x=circle_x, y=circle_y,\n",
    "        mode='lines',\n",
    "        line=dict(color=colour, width=2, dash='dot'),\n",
    "        name=f'{q} 1 std dev',\n",
    "        showlegend=True\n",
    "    ))\n",
    "\n",
    "# final plot layout\n",
    "fig.update_layout(\n",
    "    title='PCA of Quarter Feature Vectors',\n",
    "    xaxis_title='PCA 1',\n",
    "    yaxis_title='PCA 2',\n",
    "    plot_bgcolor='white',\n",
    "    legend_title='Quarter'\n",
    ")\n",
    "fig.show()"
   ]
  }
 ],
 "metadata": {
  "kernelspec": {
   "display_name": "venv",
   "language": "python",
   "name": "python3"
  },
  "language_info": {
   "codemirror_mode": {
    "name": "ipython",
    "version": 3
   },
   "file_extension": ".py",
   "mimetype": "text/x-python",
   "name": "python",
   "nbconvert_exporter": "python",
   "pygments_lexer": "ipython3",
   "version": "3.9.6"
  }
 },
 "nbformat": 4,
 "nbformat_minor": 2
}
