{
 "cells": [
  {
   "cell_type": "code",
   "execution_count": 1,
   "metadata": {},
   "outputs": [],
   "source": [
    "from LendingClubAutoencoder import preprocessing, autoencoders, training, testing\n",
    "\n",
    "import torch\n",
    "\n",
    "from datetime import datetime, timedelta\n",
    "\n",
    "import os\n",
    "import shutil\n",
    "\n",
    "import json\n",
    "import pickle\n",
    "\n",
    "import polars as pl\n",
    "import numpy as np\n",
    "import scipy.stats\n",
    "from sklearn.decomposition import PCA\n",
    "\n",
    "import plotly.graph_objects as go"
   ]
  },
  {
   "cell_type": "markdown",
   "metadata": {},
   "source": [
    "# Model Training & Evaluation"
   ]
  },
  {
   "cell_type": "code",
   "execution_count": 2,
   "metadata": {},
   "outputs": [
    {
     "name": "stdout",
     "output_type": "stream",
     "text": [
      "Evaluation Results Loaded Successfuly!\n"
     ]
    }
   ],
   "source": [
    "evaluation_results_path = 'evaluation_results.json'\n",
    "\n",
    "#If evaluation results exists they are loaded\n",
    "if os.path.exists(evaluation_results_path):\n",
    "    with open(evaluation_results_path, 'r') as f:\n",
    "        evaluation_results = json.load(f)\n",
    "    print('Evaluation Results Loaded Successfuly!')\n",
    "\n",
    "#Otherwise a new model is trained to be evaluated\n",
    "else:\n",
    "    evaluation_results = {}\n",
    "\n",
    "    learning_rate = 1e-3\n",
    "        \n",
    "    #Data\n",
    "    lending_club_data_handler = preprocessing.DataHandler(csv_path='../local_data/all_lending_club_loan_data_2007-2018.csv')\n",
    "\n",
    "    #Date Ranges\n",
    "    train_start = datetime(2013, 1, 1)\n",
    "    train_end = datetime(2017, 5, 31)\n",
    "\n",
    "    validation_start = datetime(2017, 6, 1)\n",
    "    validation_end = datetime(2017, 12, 31)\n",
    "\n",
    "    test_year = 2018\n",
    "\n",
    "    #Cross Validation\n",
    "    '''\n",
    "    print('Running Cross Validation...')\n",
    "    evaluation_results['cross-validation'] = testing.cross_validate_vae(lending_club_data_handler, train_start, train_end, sigmoid_mask, binary_mask, learning_rate=learning_rate)\n",
    "    \n",
    "    # Final Model\n",
    "    print('Preparing for Final Model')\n",
    "    if os.path.exists('trained_models'):\n",
    "        shutil.rmtree('trained_models')\n",
    "    '''\n",
    "\n",
    "    evaluation_results['evaluation_results'] = {}\n",
    "\n",
    "    #Full evaluation\n",
    "    train_data, train_mask = lending_club_data_handler.get_train_data(train_start, train_end)\n",
    "    validation_data, validation_mask = lending_club_data_handler.get_test_data(validation_start, validation_end)\n",
    "\n",
    "    train_loader = preprocessing.to_torch_dataloader(train_data,train_mask)\n",
    "    validation_loader = preprocessing.to_torch_dataloader(validation_data,validation_mask)\n",
    "\n",
    "    sigmoid_mask = lending_club_data_handler.get_sigmoid_feature_mask(as_torch=True)\n",
    "    binary_mask = lending_club_data_handler.get_binary_feature_mask(as_torch=True)\n",
    "\n",
    "    device = torch.device('cuda' if torch.cuda.is_available() else 'cpu')\n",
    "    \n",
    "    # Instantiate model and optimiser \n",
    "    '''\n",
    "    model = autoencoders.VariationalAutoencoder(input_size=len(train_data[0]), sigmoid_mask=sigmoid_mask)\n",
    "    optimiser = torch.optim.Adam(model.parameters(), lr=learning_rate)#original is 1e-3\n",
    "\n",
    "    # Train model \n",
    "    print('Training Final Model')\n",
    "    training.train_variational_autoencoder(model, optimiser, train_loader, validation_loader, binary_mask=binary_mask, device=device)\n",
    "    '''\n",
    "    print('Evaluating Final Model...')#Evaluated across the four quarters of 2018 to explore potential distribution drift \n",
    "    quarter_counter = 1\n",
    "    for start_month, end_month in zip([1,4,7,10], [3,6,9,12]):\n",
    "        test_start = datetime(test_year, start_month, 1)\n",
    "        \n",
    "        try:\n",
    "            test_end = datetime(test_year, end_month, 31)#Brute force solution for handling months of varyings lengths\n",
    "        except ValueError:\n",
    "            test_end = datetime(test_year, end_month, 30)\n",
    "\n",
    "        test_data, test_mask = lending_club_data_handler.get_test_data(test_start, test_end)\n",
    "        test_loader = preprocessing.to_torch_dataloader(test_data,test_mask)\n",
    "\n",
    "        model_file_name = f'trained_models/vae_best-input_size~{len(train_data[0])}.pt'\n",
    "\n",
    "        rmse_loss, f1_score = testing.test_vae(model_file_name, test_loader, sigmoid_mask, binary_mask, device)\n",
    "\n",
    "        evaluation_results['evaluation_results'][f'q{quarter_counter}'] = {\n",
    "            'rmse_loss': rmse_loss,\n",
    "            'f1_score': f1_score\n",
    "        }\n",
    "\n",
    "        quarter_counter = quarter_counter + 1\n",
    "\n",
    "    json.dump(evaluation_results, open(evaluation_results_path, 'w'))#Evaluation results are saved\n",
    "    \n",
    "    with open('trained_models/lending_club_data_handler.pkl', 'wb') as f:\n",
    "        pickle.dump(lending_club_data_handler, f)#Data handler is pickled and stored "
   ]
  },
  {
   "cell_type": "markdown",
   "metadata": {},
   "source": [
    "# Calculated Vector Representations"
   ]
  },
  {
   "cell_type": "code",
   "execution_count": 3,
   "metadata": {},
   "outputs": [
    {
     "name": "stdout",
     "output_type": "stream",
     "text": [
      "Vectors Loaded Successfuly!\n"
     ]
    }
   ],
   "source": [
    "vector_representations_path = 'vector_representations.csv'\n",
    "\n",
    "if os.path.exists(vector_representations_path):\n",
    "    vectors_df = pl.read_csv(vector_representations_path)\n",
    "    print('Vectors Loaded Successfuly!')\n",
    "else:\n",
    "    # Load data handler and set up model\n",
    "    try:\n",
    "        with open('trained_models/lending_club_data_handler.pkl', 'rb') as file:\n",
    "            lending_club_data_handler = pickle.load(file)\n",
    "    except FileNotFoundError:\n",
    "        raise FileExistsError('Data handler file not found. Please run the model training cell first.')\n",
    "\n",
    "    sigmoid_mask = lending_club_data_handler.get_sigmoid_feature_mask(as_torch=True)\n",
    "\n",
    "    device = torch.device('cuda' if torch.cuda.is_available() else 'cpu')\n",
    "    model = training.get_best_model(autoencoders.VariationalAutoencoder, sigmoid_mask)\n",
    "\n",
    "    model.eval()\n",
    "\n",
    "    all_quarters_dfs = []\n",
    "    test_year = 2018\n",
    "    \n",
    "    # Loops over each quarter\n",
    "    for quarter_counter, (start_month, end_month) in enumerate(zip([1, 4, 7, 10], [3, 6, 9, 12]), 1):\n",
    "        print(f'Processing Q{quarter_counter}...')\n",
    "        test_start = datetime(test_year, start_month, 1)\n",
    "        \n",
    "        try:\n",
    "            test_end = datetime(test_year, end_month, 31)\n",
    "        except ValueError:\n",
    "            test_end = datetime(test_year, end_month, 30)\n",
    "\n",
    "        test_data, test_mask = lending_club_data_handler.get_test_data(test_start, test_end)\n",
    "        test_loader = preprocessing.to_torch_dataloader(test_data, test_mask)\n",
    "\n",
    "        #Data is looped through (model is set for evaluation as to not change any weights)\n",
    "        quarter_means = []\n",
    "        with torch.no_grad():\n",
    "            for data_batch, mask_batch in test_loader:\n",
    "                data_batch = data_batch.to(device)\n",
    "                _, mean = model(data_batch)\n",
    "                quarter_means.append(mean.cpu().numpy())\n",
    "\n",
    "        #Mean representation of each row is stored \n",
    "        means_array = np.vstack(quarter_means)\n",
    "        num_features = means_array.shape[1]\n",
    "        feature_columns = [f'feature_{i+1}' for i in range(num_features)]\n",
    "        \n",
    "        df = pl.DataFrame(means_array, schema=feature_columns)\n",
    "        df = df.with_columns(pl.lit(f'q{quarter_counter}').alias('quarter'))\n",
    "        \n",
    "        # Reorders columns to have 'quarter' first\n",
    "        df = df.select(['quarter'] + feature_columns)\n",
    "        \n",
    "        all_quarters_dfs.append(df)\n",
    "\n",
    "    # Concatenate all quarterly dataframes\n",
    "    vectors_df = pl.concat(all_quarters_dfs)\n",
    "\n",
    "    vectors_df.write_csv(vector_representations_path)\n",
    "    print('Successfully saved to CSV.')\n"
   ]
  },
  {
   "cell_type": "markdown",
   "metadata": {},
   "source": [
    "# Evaluation Results"
   ]
  },
  {
   "cell_type": "code",
   "execution_count": 4,
   "metadata": {},
   "outputs": [
    {
     "data": {
      "application/vnd.plotly.v1+json": {
       "config": {
        "plotlyServerURL": "https://plot.ly"
       },
       "data": [
        {
         "marker": {
          "color": "black"
         },
         "name": "Evaluation Results",
         "type": "bar",
         "x": [
          "buffer1",
          "q1",
          "q2",
          "q3",
          "q4",
          "buffer2"
         ],
         "y": [
          0,
          0.3979564103013963,
          0.40104037886321425,
          0.420879880765717,
          0.4471054261872349,
          0
         ]
        },
        {
         "line": {
          "color": "firebrick",
          "width": 2
         },
         "mode": "lines",
         "name": "CV Mean 0.400",
         "type": "scatter",
         "x": [
          "buffer1",
          "q1",
          "q2",
          "q3",
          "q4",
          "buffer2"
         ],
         "y": [
          0.40024447012838155,
          0.40024447012838155,
          0.40024447012838155,
          0.40024447012838155,
          0.40024447012838155,
          0.40024447012838155
         ]
        }
       ],
       "layout": {
        "plot_bgcolor": "white",
        "template": {
         "data": {
          "bar": [
           {
            "error_x": {
             "color": "#2a3f5f"
            },
            "error_y": {
             "color": "#2a3f5f"
            },
            "marker": {
             "line": {
              "color": "#E5ECF6",
              "width": 0.5
             },
             "pattern": {
              "fillmode": "overlay",
              "size": 10,
              "solidity": 0.2
             }
            },
            "type": "bar"
           }
          ],
          "barpolar": [
           {
            "marker": {
             "line": {
              "color": "#E5ECF6",
              "width": 0.5
             },
             "pattern": {
              "fillmode": "overlay",
              "size": 10,
              "solidity": 0.2
             }
            },
            "type": "barpolar"
           }
          ],
          "carpet": [
           {
            "aaxis": {
             "endlinecolor": "#2a3f5f",
             "gridcolor": "white",
             "linecolor": "white",
             "minorgridcolor": "white",
             "startlinecolor": "#2a3f5f"
            },
            "baxis": {
             "endlinecolor": "#2a3f5f",
             "gridcolor": "white",
             "linecolor": "white",
             "minorgridcolor": "white",
             "startlinecolor": "#2a3f5f"
            },
            "type": "carpet"
           }
          ],
          "choropleth": [
           {
            "colorbar": {
             "outlinewidth": 0,
             "ticks": ""
            },
            "type": "choropleth"
           }
          ],
          "contour": [
           {
            "colorbar": {
             "outlinewidth": 0,
             "ticks": ""
            },
            "colorscale": [
             [
              0,
              "#0d0887"
             ],
             [
              0.1111111111111111,
              "#46039f"
             ],
             [
              0.2222222222222222,
              "#7201a8"
             ],
             [
              0.3333333333333333,
              "#9c179e"
             ],
             [
              0.4444444444444444,
              "#bd3786"
             ],
             [
              0.5555555555555556,
              "#d8576b"
             ],
             [
              0.6666666666666666,
              "#ed7953"
             ],
             [
              0.7777777777777778,
              "#fb9f3a"
             ],
             [
              0.8888888888888888,
              "#fdca26"
             ],
             [
              1,
              "#f0f921"
             ]
            ],
            "type": "contour"
           }
          ],
          "contourcarpet": [
           {
            "colorbar": {
             "outlinewidth": 0,
             "ticks": ""
            },
            "type": "contourcarpet"
           }
          ],
          "heatmap": [
           {
            "colorbar": {
             "outlinewidth": 0,
             "ticks": ""
            },
            "colorscale": [
             [
              0,
              "#0d0887"
             ],
             [
              0.1111111111111111,
              "#46039f"
             ],
             [
              0.2222222222222222,
              "#7201a8"
             ],
             [
              0.3333333333333333,
              "#9c179e"
             ],
             [
              0.4444444444444444,
              "#bd3786"
             ],
             [
              0.5555555555555556,
              "#d8576b"
             ],
             [
              0.6666666666666666,
              "#ed7953"
             ],
             [
              0.7777777777777778,
              "#fb9f3a"
             ],
             [
              0.8888888888888888,
              "#fdca26"
             ],
             [
              1,
              "#f0f921"
             ]
            ],
            "type": "heatmap"
           }
          ],
          "histogram": [
           {
            "marker": {
             "pattern": {
              "fillmode": "overlay",
              "size": 10,
              "solidity": 0.2
             }
            },
            "type": "histogram"
           }
          ],
          "histogram2d": [
           {
            "colorbar": {
             "outlinewidth": 0,
             "ticks": ""
            },
            "colorscale": [
             [
              0,
              "#0d0887"
             ],
             [
              0.1111111111111111,
              "#46039f"
             ],
             [
              0.2222222222222222,
              "#7201a8"
             ],
             [
              0.3333333333333333,
              "#9c179e"
             ],
             [
              0.4444444444444444,
              "#bd3786"
             ],
             [
              0.5555555555555556,
              "#d8576b"
             ],
             [
              0.6666666666666666,
              "#ed7953"
             ],
             [
              0.7777777777777778,
              "#fb9f3a"
             ],
             [
              0.8888888888888888,
              "#fdca26"
             ],
             [
              1,
              "#f0f921"
             ]
            ],
            "type": "histogram2d"
           }
          ],
          "histogram2dcontour": [
           {
            "colorbar": {
             "outlinewidth": 0,
             "ticks": ""
            },
            "colorscale": [
             [
              0,
              "#0d0887"
             ],
             [
              0.1111111111111111,
              "#46039f"
             ],
             [
              0.2222222222222222,
              "#7201a8"
             ],
             [
              0.3333333333333333,
              "#9c179e"
             ],
             [
              0.4444444444444444,
              "#bd3786"
             ],
             [
              0.5555555555555556,
              "#d8576b"
             ],
             [
              0.6666666666666666,
              "#ed7953"
             ],
             [
              0.7777777777777778,
              "#fb9f3a"
             ],
             [
              0.8888888888888888,
              "#fdca26"
             ],
             [
              1,
              "#f0f921"
             ]
            ],
            "type": "histogram2dcontour"
           }
          ],
          "mesh3d": [
           {
            "colorbar": {
             "outlinewidth": 0,
             "ticks": ""
            },
            "type": "mesh3d"
           }
          ],
          "parcoords": [
           {
            "line": {
             "colorbar": {
              "outlinewidth": 0,
              "ticks": ""
             }
            },
            "type": "parcoords"
           }
          ],
          "pie": [
           {
            "automargin": true,
            "type": "pie"
           }
          ],
          "scatter": [
           {
            "fillpattern": {
             "fillmode": "overlay",
             "size": 10,
             "solidity": 0.2
            },
            "type": "scatter"
           }
          ],
          "scatter3d": [
           {
            "line": {
             "colorbar": {
              "outlinewidth": 0,
              "ticks": ""
             }
            },
            "marker": {
             "colorbar": {
              "outlinewidth": 0,
              "ticks": ""
             }
            },
            "type": "scatter3d"
           }
          ],
          "scattercarpet": [
           {
            "marker": {
             "colorbar": {
              "outlinewidth": 0,
              "ticks": ""
             }
            },
            "type": "scattercarpet"
           }
          ],
          "scattergeo": [
           {
            "marker": {
             "colorbar": {
              "outlinewidth": 0,
              "ticks": ""
             }
            },
            "type": "scattergeo"
           }
          ],
          "scattergl": [
           {
            "marker": {
             "colorbar": {
              "outlinewidth": 0,
              "ticks": ""
             }
            },
            "type": "scattergl"
           }
          ],
          "scattermap": [
           {
            "marker": {
             "colorbar": {
              "outlinewidth": 0,
              "ticks": ""
             }
            },
            "type": "scattermap"
           }
          ],
          "scattermapbox": [
           {
            "marker": {
             "colorbar": {
              "outlinewidth": 0,
              "ticks": ""
             }
            },
            "type": "scattermapbox"
           }
          ],
          "scatterpolar": [
           {
            "marker": {
             "colorbar": {
              "outlinewidth": 0,
              "ticks": ""
             }
            },
            "type": "scatterpolar"
           }
          ],
          "scatterpolargl": [
           {
            "marker": {
             "colorbar": {
              "outlinewidth": 0,
              "ticks": ""
             }
            },
            "type": "scatterpolargl"
           }
          ],
          "scatterternary": [
           {
            "marker": {
             "colorbar": {
              "outlinewidth": 0,
              "ticks": ""
             }
            },
            "type": "scatterternary"
           }
          ],
          "surface": [
           {
            "colorbar": {
             "outlinewidth": 0,
             "ticks": ""
            },
            "colorscale": [
             [
              0,
              "#0d0887"
             ],
             [
              0.1111111111111111,
              "#46039f"
             ],
             [
              0.2222222222222222,
              "#7201a8"
             ],
             [
              0.3333333333333333,
              "#9c179e"
             ],
             [
              0.4444444444444444,
              "#bd3786"
             ],
             [
              0.5555555555555556,
              "#d8576b"
             ],
             [
              0.6666666666666666,
              "#ed7953"
             ],
             [
              0.7777777777777778,
              "#fb9f3a"
             ],
             [
              0.8888888888888888,
              "#fdca26"
             ],
             [
              1,
              "#f0f921"
             ]
            ],
            "type": "surface"
           }
          ],
          "table": [
           {
            "cells": {
             "fill": {
              "color": "#EBF0F8"
             },
             "line": {
              "color": "white"
             }
            },
            "header": {
             "fill": {
              "color": "#C8D4E3"
             },
             "line": {
              "color": "white"
             }
            },
            "type": "table"
           }
          ]
         },
         "layout": {
          "annotationdefaults": {
           "arrowcolor": "#2a3f5f",
           "arrowhead": 0,
           "arrowwidth": 1
          },
          "autotypenumbers": "strict",
          "coloraxis": {
           "colorbar": {
            "outlinewidth": 0,
            "ticks": ""
           }
          },
          "colorscale": {
           "diverging": [
            [
             0,
             "#8e0152"
            ],
            [
             0.1,
             "#c51b7d"
            ],
            [
             0.2,
             "#de77ae"
            ],
            [
             0.3,
             "#f1b6da"
            ],
            [
             0.4,
             "#fde0ef"
            ],
            [
             0.5,
             "#f7f7f7"
            ],
            [
             0.6,
             "#e6f5d0"
            ],
            [
             0.7,
             "#b8e186"
            ],
            [
             0.8,
             "#7fbc41"
            ],
            [
             0.9,
             "#4d9221"
            ],
            [
             1,
             "#276419"
            ]
           ],
           "sequential": [
            [
             0,
             "#0d0887"
            ],
            [
             0.1111111111111111,
             "#46039f"
            ],
            [
             0.2222222222222222,
             "#7201a8"
            ],
            [
             0.3333333333333333,
             "#9c179e"
            ],
            [
             0.4444444444444444,
             "#bd3786"
            ],
            [
             0.5555555555555556,
             "#d8576b"
            ],
            [
             0.6666666666666666,
             "#ed7953"
            ],
            [
             0.7777777777777778,
             "#fb9f3a"
            ],
            [
             0.8888888888888888,
             "#fdca26"
            ],
            [
             1,
             "#f0f921"
            ]
           ],
           "sequentialminus": [
            [
             0,
             "#0d0887"
            ],
            [
             0.1111111111111111,
             "#46039f"
            ],
            [
             0.2222222222222222,
             "#7201a8"
            ],
            [
             0.3333333333333333,
             "#9c179e"
            ],
            [
             0.4444444444444444,
             "#bd3786"
            ],
            [
             0.5555555555555556,
             "#d8576b"
            ],
            [
             0.6666666666666666,
             "#ed7953"
            ],
            [
             0.7777777777777778,
             "#fb9f3a"
            ],
            [
             0.8888888888888888,
             "#fdca26"
            ],
            [
             1,
             "#f0f921"
            ]
           ]
          },
          "colorway": [
           "#636efa",
           "#EF553B",
           "#00cc96",
           "#ab63fa",
           "#FFA15A",
           "#19d3f3",
           "#FF6692",
           "#B6E880",
           "#FF97FF",
           "#FECB52"
          ],
          "font": {
           "color": "#2a3f5f"
          },
          "geo": {
           "bgcolor": "white",
           "lakecolor": "white",
           "landcolor": "#E5ECF6",
           "showlakes": true,
           "showland": true,
           "subunitcolor": "white"
          },
          "hoverlabel": {
           "align": "left"
          },
          "hovermode": "closest",
          "mapbox": {
           "style": "light"
          },
          "paper_bgcolor": "white",
          "plot_bgcolor": "#E5ECF6",
          "polar": {
           "angularaxis": {
            "gridcolor": "white",
            "linecolor": "white",
            "ticks": ""
           },
           "bgcolor": "#E5ECF6",
           "radialaxis": {
            "gridcolor": "white",
            "linecolor": "white",
            "ticks": ""
           }
          },
          "scene": {
           "xaxis": {
            "backgroundcolor": "#E5ECF6",
            "gridcolor": "white",
            "gridwidth": 2,
            "linecolor": "white",
            "showbackground": true,
            "ticks": "",
            "zerolinecolor": "white"
           },
           "yaxis": {
            "backgroundcolor": "#E5ECF6",
            "gridcolor": "white",
            "gridwidth": 2,
            "linecolor": "white",
            "showbackground": true,
            "ticks": "",
            "zerolinecolor": "white"
           },
           "zaxis": {
            "backgroundcolor": "#E5ECF6",
            "gridcolor": "white",
            "gridwidth": 2,
            "linecolor": "white",
            "showbackground": true,
            "ticks": "",
            "zerolinecolor": "white"
           }
          },
          "shapedefaults": {
           "line": {
            "color": "#2a3f5f"
           }
          },
          "ternary": {
           "aaxis": {
            "gridcolor": "white",
            "linecolor": "white",
            "ticks": ""
           },
           "baxis": {
            "gridcolor": "white",
            "linecolor": "white",
            "ticks": ""
           },
           "bgcolor": "#E5ECF6",
           "caxis": {
            "gridcolor": "white",
            "linecolor": "white",
            "ticks": ""
           }
          },
          "title": {
           "x": 0.05
          },
          "xaxis": {
           "automargin": true,
           "gridcolor": "white",
           "linecolor": "white",
           "ticks": "",
           "title": {
            "standoff": 15
           },
           "zerolinecolor": "white",
           "zerolinewidth": 2
          },
          "yaxis": {
           "automargin": true,
           "gridcolor": "white",
           "linecolor": "white",
           "ticks": "",
           "title": {
            "standoff": 15
           },
           "zerolinecolor": "white",
           "zerolinewidth": 2
          }
         }
        },
        "title": {
         "text": "Final Model RMSE LOSS"
        },
        "xaxis": {
         "range": [
          0.5,
          4.5
         ],
         "title": {
          "text": "Test Quarter"
         }
        },
        "yaxis": {
         "title": {
          "text": "rmse loss"
         }
        }
       }
      }
     },
     "metadata": {},
     "output_type": "display_data"
    },
    {
     "data": {
      "application/vnd.plotly.v1+json": {
       "config": {
        "plotlyServerURL": "https://plot.ly"
       },
       "data": [
        {
         "marker": {
          "color": "black"
         },
         "name": "Evaluation Results",
         "type": "bar",
         "x": [
          "buffer1",
          "q1",
          "q2",
          "q3",
          "q4",
          "buffer2"
         ],
         "y": [
          0,
          0.9927449584148674,
          0.9873566983555627,
          0.9778545437577718,
          0.9704032965602124,
          0
         ]
        },
        {
         "line": {
          "color": "firebrick",
          "width": 2
         },
         "mode": "lines",
         "name": "CV Mean 0.986",
         "type": "scatter",
         "x": [
          "buffer1",
          "q1",
          "q2",
          "q3",
          "q4",
          "buffer2"
         ],
         "y": [
          0.9862764951593224,
          0.9862764951593224,
          0.9862764951593224,
          0.9862764951593224,
          0.9862764951593224,
          0.9862764951593224
         ]
        }
       ],
       "layout": {
        "plot_bgcolor": "white",
        "template": {
         "data": {
          "bar": [
           {
            "error_x": {
             "color": "#2a3f5f"
            },
            "error_y": {
             "color": "#2a3f5f"
            },
            "marker": {
             "line": {
              "color": "#E5ECF6",
              "width": 0.5
             },
             "pattern": {
              "fillmode": "overlay",
              "size": 10,
              "solidity": 0.2
             }
            },
            "type": "bar"
           }
          ],
          "barpolar": [
           {
            "marker": {
             "line": {
              "color": "#E5ECF6",
              "width": 0.5
             },
             "pattern": {
              "fillmode": "overlay",
              "size": 10,
              "solidity": 0.2
             }
            },
            "type": "barpolar"
           }
          ],
          "carpet": [
           {
            "aaxis": {
             "endlinecolor": "#2a3f5f",
             "gridcolor": "white",
             "linecolor": "white",
             "minorgridcolor": "white",
             "startlinecolor": "#2a3f5f"
            },
            "baxis": {
             "endlinecolor": "#2a3f5f",
             "gridcolor": "white",
             "linecolor": "white",
             "minorgridcolor": "white",
             "startlinecolor": "#2a3f5f"
            },
            "type": "carpet"
           }
          ],
          "choropleth": [
           {
            "colorbar": {
             "outlinewidth": 0,
             "ticks": ""
            },
            "type": "choropleth"
           }
          ],
          "contour": [
           {
            "colorbar": {
             "outlinewidth": 0,
             "ticks": ""
            },
            "colorscale": [
             [
              0,
              "#0d0887"
             ],
             [
              0.1111111111111111,
              "#46039f"
             ],
             [
              0.2222222222222222,
              "#7201a8"
             ],
             [
              0.3333333333333333,
              "#9c179e"
             ],
             [
              0.4444444444444444,
              "#bd3786"
             ],
             [
              0.5555555555555556,
              "#d8576b"
             ],
             [
              0.6666666666666666,
              "#ed7953"
             ],
             [
              0.7777777777777778,
              "#fb9f3a"
             ],
             [
              0.8888888888888888,
              "#fdca26"
             ],
             [
              1,
              "#f0f921"
             ]
            ],
            "type": "contour"
           }
          ],
          "contourcarpet": [
           {
            "colorbar": {
             "outlinewidth": 0,
             "ticks": ""
            },
            "type": "contourcarpet"
           }
          ],
          "heatmap": [
           {
            "colorbar": {
             "outlinewidth": 0,
             "ticks": ""
            },
            "colorscale": [
             [
              0,
              "#0d0887"
             ],
             [
              0.1111111111111111,
              "#46039f"
             ],
             [
              0.2222222222222222,
              "#7201a8"
             ],
             [
              0.3333333333333333,
              "#9c179e"
             ],
             [
              0.4444444444444444,
              "#bd3786"
             ],
             [
              0.5555555555555556,
              "#d8576b"
             ],
             [
              0.6666666666666666,
              "#ed7953"
             ],
             [
              0.7777777777777778,
              "#fb9f3a"
             ],
             [
              0.8888888888888888,
              "#fdca26"
             ],
             [
              1,
              "#f0f921"
             ]
            ],
            "type": "heatmap"
           }
          ],
          "histogram": [
           {
            "marker": {
             "pattern": {
              "fillmode": "overlay",
              "size": 10,
              "solidity": 0.2
             }
            },
            "type": "histogram"
           }
          ],
          "histogram2d": [
           {
            "colorbar": {
             "outlinewidth": 0,
             "ticks": ""
            },
            "colorscale": [
             [
              0,
              "#0d0887"
             ],
             [
              0.1111111111111111,
              "#46039f"
             ],
             [
              0.2222222222222222,
              "#7201a8"
             ],
             [
              0.3333333333333333,
              "#9c179e"
             ],
             [
              0.4444444444444444,
              "#bd3786"
             ],
             [
              0.5555555555555556,
              "#d8576b"
             ],
             [
              0.6666666666666666,
              "#ed7953"
             ],
             [
              0.7777777777777778,
              "#fb9f3a"
             ],
             [
              0.8888888888888888,
              "#fdca26"
             ],
             [
              1,
              "#f0f921"
             ]
            ],
            "type": "histogram2d"
           }
          ],
          "histogram2dcontour": [
           {
            "colorbar": {
             "outlinewidth": 0,
             "ticks": ""
            },
            "colorscale": [
             [
              0,
              "#0d0887"
             ],
             [
              0.1111111111111111,
              "#46039f"
             ],
             [
              0.2222222222222222,
              "#7201a8"
             ],
             [
              0.3333333333333333,
              "#9c179e"
             ],
             [
              0.4444444444444444,
              "#bd3786"
             ],
             [
              0.5555555555555556,
              "#d8576b"
             ],
             [
              0.6666666666666666,
              "#ed7953"
             ],
             [
              0.7777777777777778,
              "#fb9f3a"
             ],
             [
              0.8888888888888888,
              "#fdca26"
             ],
             [
              1,
              "#f0f921"
             ]
            ],
            "type": "histogram2dcontour"
           }
          ],
          "mesh3d": [
           {
            "colorbar": {
             "outlinewidth": 0,
             "ticks": ""
            },
            "type": "mesh3d"
           }
          ],
          "parcoords": [
           {
            "line": {
             "colorbar": {
              "outlinewidth": 0,
              "ticks": ""
             }
            },
            "type": "parcoords"
           }
          ],
          "pie": [
           {
            "automargin": true,
            "type": "pie"
           }
          ],
          "scatter": [
           {
            "fillpattern": {
             "fillmode": "overlay",
             "size": 10,
             "solidity": 0.2
            },
            "type": "scatter"
           }
          ],
          "scatter3d": [
           {
            "line": {
             "colorbar": {
              "outlinewidth": 0,
              "ticks": ""
             }
            },
            "marker": {
             "colorbar": {
              "outlinewidth": 0,
              "ticks": ""
             }
            },
            "type": "scatter3d"
           }
          ],
          "scattercarpet": [
           {
            "marker": {
             "colorbar": {
              "outlinewidth": 0,
              "ticks": ""
             }
            },
            "type": "scattercarpet"
           }
          ],
          "scattergeo": [
           {
            "marker": {
             "colorbar": {
              "outlinewidth": 0,
              "ticks": ""
             }
            },
            "type": "scattergeo"
           }
          ],
          "scattergl": [
           {
            "marker": {
             "colorbar": {
              "outlinewidth": 0,
              "ticks": ""
             }
            },
            "type": "scattergl"
           }
          ],
          "scattermap": [
           {
            "marker": {
             "colorbar": {
              "outlinewidth": 0,
              "ticks": ""
             }
            },
            "type": "scattermap"
           }
          ],
          "scattermapbox": [
           {
            "marker": {
             "colorbar": {
              "outlinewidth": 0,
              "ticks": ""
             }
            },
            "type": "scattermapbox"
           }
          ],
          "scatterpolar": [
           {
            "marker": {
             "colorbar": {
              "outlinewidth": 0,
              "ticks": ""
             }
            },
            "type": "scatterpolar"
           }
          ],
          "scatterpolargl": [
           {
            "marker": {
             "colorbar": {
              "outlinewidth": 0,
              "ticks": ""
             }
            },
            "type": "scatterpolargl"
           }
          ],
          "scatterternary": [
           {
            "marker": {
             "colorbar": {
              "outlinewidth": 0,
              "ticks": ""
             }
            },
            "type": "scatterternary"
           }
          ],
          "surface": [
           {
            "colorbar": {
             "outlinewidth": 0,
             "ticks": ""
            },
            "colorscale": [
             [
              0,
              "#0d0887"
             ],
             [
              0.1111111111111111,
              "#46039f"
             ],
             [
              0.2222222222222222,
              "#7201a8"
             ],
             [
              0.3333333333333333,
              "#9c179e"
             ],
             [
              0.4444444444444444,
              "#bd3786"
             ],
             [
              0.5555555555555556,
              "#d8576b"
             ],
             [
              0.6666666666666666,
              "#ed7953"
             ],
             [
              0.7777777777777778,
              "#fb9f3a"
             ],
             [
              0.8888888888888888,
              "#fdca26"
             ],
             [
              1,
              "#f0f921"
             ]
            ],
            "type": "surface"
           }
          ],
          "table": [
           {
            "cells": {
             "fill": {
              "color": "#EBF0F8"
             },
             "line": {
              "color": "white"
             }
            },
            "header": {
             "fill": {
              "color": "#C8D4E3"
             },
             "line": {
              "color": "white"
             }
            },
            "type": "table"
           }
          ]
         },
         "layout": {
          "annotationdefaults": {
           "arrowcolor": "#2a3f5f",
           "arrowhead": 0,
           "arrowwidth": 1
          },
          "autotypenumbers": "strict",
          "coloraxis": {
           "colorbar": {
            "outlinewidth": 0,
            "ticks": ""
           }
          },
          "colorscale": {
           "diverging": [
            [
             0,
             "#8e0152"
            ],
            [
             0.1,
             "#c51b7d"
            ],
            [
             0.2,
             "#de77ae"
            ],
            [
             0.3,
             "#f1b6da"
            ],
            [
             0.4,
             "#fde0ef"
            ],
            [
             0.5,
             "#f7f7f7"
            ],
            [
             0.6,
             "#e6f5d0"
            ],
            [
             0.7,
             "#b8e186"
            ],
            [
             0.8,
             "#7fbc41"
            ],
            [
             0.9,
             "#4d9221"
            ],
            [
             1,
             "#276419"
            ]
           ],
           "sequential": [
            [
             0,
             "#0d0887"
            ],
            [
             0.1111111111111111,
             "#46039f"
            ],
            [
             0.2222222222222222,
             "#7201a8"
            ],
            [
             0.3333333333333333,
             "#9c179e"
            ],
            [
             0.4444444444444444,
             "#bd3786"
            ],
            [
             0.5555555555555556,
             "#d8576b"
            ],
            [
             0.6666666666666666,
             "#ed7953"
            ],
            [
             0.7777777777777778,
             "#fb9f3a"
            ],
            [
             0.8888888888888888,
             "#fdca26"
            ],
            [
             1,
             "#f0f921"
            ]
           ],
           "sequentialminus": [
            [
             0,
             "#0d0887"
            ],
            [
             0.1111111111111111,
             "#46039f"
            ],
            [
             0.2222222222222222,
             "#7201a8"
            ],
            [
             0.3333333333333333,
             "#9c179e"
            ],
            [
             0.4444444444444444,
             "#bd3786"
            ],
            [
             0.5555555555555556,
             "#d8576b"
            ],
            [
             0.6666666666666666,
             "#ed7953"
            ],
            [
             0.7777777777777778,
             "#fb9f3a"
            ],
            [
             0.8888888888888888,
             "#fdca26"
            ],
            [
             1,
             "#f0f921"
            ]
           ]
          },
          "colorway": [
           "#636efa",
           "#EF553B",
           "#00cc96",
           "#ab63fa",
           "#FFA15A",
           "#19d3f3",
           "#FF6692",
           "#B6E880",
           "#FF97FF",
           "#FECB52"
          ],
          "font": {
           "color": "#2a3f5f"
          },
          "geo": {
           "bgcolor": "white",
           "lakecolor": "white",
           "landcolor": "#E5ECF6",
           "showlakes": true,
           "showland": true,
           "subunitcolor": "white"
          },
          "hoverlabel": {
           "align": "left"
          },
          "hovermode": "closest",
          "mapbox": {
           "style": "light"
          },
          "paper_bgcolor": "white",
          "plot_bgcolor": "#E5ECF6",
          "polar": {
           "angularaxis": {
            "gridcolor": "white",
            "linecolor": "white",
            "ticks": ""
           },
           "bgcolor": "#E5ECF6",
           "radialaxis": {
            "gridcolor": "white",
            "linecolor": "white",
            "ticks": ""
           }
          },
          "scene": {
           "xaxis": {
            "backgroundcolor": "#E5ECF6",
            "gridcolor": "white",
            "gridwidth": 2,
            "linecolor": "white",
            "showbackground": true,
            "ticks": "",
            "zerolinecolor": "white"
           },
           "yaxis": {
            "backgroundcolor": "#E5ECF6",
            "gridcolor": "white",
            "gridwidth": 2,
            "linecolor": "white",
            "showbackground": true,
            "ticks": "",
            "zerolinecolor": "white"
           },
           "zaxis": {
            "backgroundcolor": "#E5ECF6",
            "gridcolor": "white",
            "gridwidth": 2,
            "linecolor": "white",
            "showbackground": true,
            "ticks": "",
            "zerolinecolor": "white"
           }
          },
          "shapedefaults": {
           "line": {
            "color": "#2a3f5f"
           }
          },
          "ternary": {
           "aaxis": {
            "gridcolor": "white",
            "linecolor": "white",
            "ticks": ""
           },
           "baxis": {
            "gridcolor": "white",
            "linecolor": "white",
            "ticks": ""
           },
           "bgcolor": "#E5ECF6",
           "caxis": {
            "gridcolor": "white",
            "linecolor": "white",
            "ticks": ""
           }
          },
          "title": {
           "x": 0.05
          },
          "xaxis": {
           "automargin": true,
           "gridcolor": "white",
           "linecolor": "white",
           "ticks": "",
           "title": {
            "standoff": 15
           },
           "zerolinecolor": "white",
           "zerolinewidth": 2
          },
          "yaxis": {
           "automargin": true,
           "gridcolor": "white",
           "linecolor": "white",
           "ticks": "",
           "title": {
            "standoff": 15
           },
           "zerolinecolor": "white",
           "zerolinewidth": 2
          }
         }
        },
        "title": {
         "text": "Final Model F1 SCORE"
        },
        "xaxis": {
         "range": [
          0.5,
          4.5
         ],
         "title": {
          "text": "Test Quarter"
         }
        },
        "yaxis": {
         "title": {
          "text": "f1 score"
         }
        }
       }
      }
     },
     "metadata": {},
     "output_type": "display_data"
    }
   ],
   "source": [
    "def plot_evaluation_results(evaluation_results: dict, metric_name: str):\n",
    "    # Compute CV Mean\n",
    "    cv_values = [fold[metric_name] for fold in evaluation_results['cross-validation'].values()]\n",
    "    cv_mean   = sum(cv_values) / len(cv_values)\n",
    "\n",
    "    # Loaded Evaluation results\n",
    "    evaluation_keys   = list(evaluation_results['evaluation_results'].keys())\n",
    "    evaluation_values = [evaluation_results['evaluation_results'][k][metric_name] for k in evaluation_keys]\n",
    "\n",
    "    # Build buffered lists to ensure CV Line extends the width of the plot\n",
    "    x_labels    = ['buffer1'] + evaluation_keys + ['buffer2']\n",
    "    bar_values  = [0] + evaluation_values + [0]\n",
    "    line_values = [cv_mean] * len(x_labels)\n",
    "\n",
    "    # Quarterly results are presented as bars\n",
    "    bar = go.Bar(\n",
    "        x=x_labels,\n",
    "        y=bar_values,\n",
    "        marker_color='black',\n",
    "        name='Evaluation Results'\n",
    "    )\n",
    "\n",
    "    # CV Mean is presented as a line that cuts across the bars\n",
    "    line = go.Scatter(\n",
    "        x=x_labels,\n",
    "        y=line_values,\n",
    "        mode='lines',\n",
    "        line=dict(color='firebrick', width=2),\n",
    "        name=f'CV Mean {cv_mean:.3f}'\n",
    "    )\n",
    "\n",
    "    fig = go.Figure(data=[bar, line])\n",
    "    fig.update_layout(\n",
    "        plot_bgcolor='white',\n",
    "        xaxis_title_text='Test Quarter',\n",
    "        yaxis_title_text=f'{metric_name.replace(\"_\",\" \")}',\n",
    "        title=f'Final Model {\" \".join([word.upper() for word in metric_name.replace(\"_\",\" \").split(\" \")])}'\n",
    "    )\n",
    "\n",
    "    # Zoom into x axis to skip buffers\n",
    "    start_idx = 1\n",
    "    end_idx   = len(x_labels) - 2\n",
    "    fig.update_xaxes(range=[start_idx - 0.5, end_idx + 0.5])\n",
    "\n",
    "    fig.show()\n",
    "    #fig.write_image(f'{metric_name}.png', scale=5)#Uncomment to save an image of the fig\n",
    "\n",
    "plot_evaluation_results(evaluation_results, 'rmse_loss')\n",
    "plot_evaluation_results(evaluation_results, 'f1_score')"
   ]
  },
  {
   "cell_type": "markdown",
   "metadata": {},
   "source": [
    "# Wasserstein Distance between quarters"
   ]
  },
  {
   "cell_type": "code",
   "execution_count": 5,
   "metadata": {},
   "outputs": [
    {
     "data": {
      "application/vnd.plotly.v1+json": {
       "config": {
        "plotlyServerURL": "https://plot.ly"
       },
       "data": [
        {
         "colorscale": [
          [
           0,
           "rgb(5,48,97)"
          ],
          [
           0.1,
           "rgb(33,102,172)"
          ],
          [
           0.2,
           "rgb(67,147,195)"
          ],
          [
           0.3,
           "rgb(146,197,222)"
          ],
          [
           0.4,
           "rgb(209,229,240)"
          ],
          [
           0.5,
           "rgb(247,247,247)"
          ],
          [
           0.6,
           "rgb(253,219,199)"
          ],
          [
           0.7,
           "rgb(244,165,130)"
          ],
          [
           0.8,
           "rgb(214,96,77)"
          ],
          [
           0.9,
           "rgb(178,24,43)"
          ],
          [
           1,
           "rgb(103,0,31)"
          ]
         ],
         "text": {
          "bdata": "AAAAAAAAAAAhsHJoke28P7TIdr6fGs8/dZMYBFYO1T8hsHJoke28PwAAAAAAAAAA7FG4HoXrwT/NzMzMzMzMP7TIdr6fGs8/7FG4HoXrwT8AAAAAAAAAALKd76fGS7c/dZMYBFYO1T/NzMzMzMzMP7Kd76fGS7c/AAAAAAAAAAA=",
          "dtype": "f8",
          "shape": "4, 4"
         },
         "texttemplate": "%{text}",
         "type": "heatmap",
         "x": [
          "q1",
          "q2",
          "q3",
          "q4"
         ],
         "y": [
          "q1",
          "q2",
          "q3",
          "q4"
         ],
         "z": {
          "bdata": "AAAAAAAAAADYORNyEPa8P+Ceihn7Jc8/kYsLB7cI1T/YORNyEPa8PwAAAAAAAAAAJo7DMJXwwT8ODNqG88XMP+Ceihn7Jc8/Jo7DMJXwwT8AAAAAAAAAAGs8EeFibLc/kYsLB7cI1T8ODNqG88XMP2s8EeFibLc/AAAAAAAAAAA=",
          "dtype": "f8",
          "shape": "4, 4"
         },
         "zmax": 0.32865691841123473,
         "zmin": 0
        }
       ],
       "layout": {
        "template": {
         "data": {
          "bar": [
           {
            "error_x": {
             "color": "#2a3f5f"
            },
            "error_y": {
             "color": "#2a3f5f"
            },
            "marker": {
             "line": {
              "color": "#E5ECF6",
              "width": 0.5
             },
             "pattern": {
              "fillmode": "overlay",
              "size": 10,
              "solidity": 0.2
             }
            },
            "type": "bar"
           }
          ],
          "barpolar": [
           {
            "marker": {
             "line": {
              "color": "#E5ECF6",
              "width": 0.5
             },
             "pattern": {
              "fillmode": "overlay",
              "size": 10,
              "solidity": 0.2
             }
            },
            "type": "barpolar"
           }
          ],
          "carpet": [
           {
            "aaxis": {
             "endlinecolor": "#2a3f5f",
             "gridcolor": "white",
             "linecolor": "white",
             "minorgridcolor": "white",
             "startlinecolor": "#2a3f5f"
            },
            "baxis": {
             "endlinecolor": "#2a3f5f",
             "gridcolor": "white",
             "linecolor": "white",
             "minorgridcolor": "white",
             "startlinecolor": "#2a3f5f"
            },
            "type": "carpet"
           }
          ],
          "choropleth": [
           {
            "colorbar": {
             "outlinewidth": 0,
             "ticks": ""
            },
            "type": "choropleth"
           }
          ],
          "contour": [
           {
            "colorbar": {
             "outlinewidth": 0,
             "ticks": ""
            },
            "colorscale": [
             [
              0,
              "#0d0887"
             ],
             [
              0.1111111111111111,
              "#46039f"
             ],
             [
              0.2222222222222222,
              "#7201a8"
             ],
             [
              0.3333333333333333,
              "#9c179e"
             ],
             [
              0.4444444444444444,
              "#bd3786"
             ],
             [
              0.5555555555555556,
              "#d8576b"
             ],
             [
              0.6666666666666666,
              "#ed7953"
             ],
             [
              0.7777777777777778,
              "#fb9f3a"
             ],
             [
              0.8888888888888888,
              "#fdca26"
             ],
             [
              1,
              "#f0f921"
             ]
            ],
            "type": "contour"
           }
          ],
          "contourcarpet": [
           {
            "colorbar": {
             "outlinewidth": 0,
             "ticks": ""
            },
            "type": "contourcarpet"
           }
          ],
          "heatmap": [
           {
            "colorbar": {
             "outlinewidth": 0,
             "ticks": ""
            },
            "colorscale": [
             [
              0,
              "#0d0887"
             ],
             [
              0.1111111111111111,
              "#46039f"
             ],
             [
              0.2222222222222222,
              "#7201a8"
             ],
             [
              0.3333333333333333,
              "#9c179e"
             ],
             [
              0.4444444444444444,
              "#bd3786"
             ],
             [
              0.5555555555555556,
              "#d8576b"
             ],
             [
              0.6666666666666666,
              "#ed7953"
             ],
             [
              0.7777777777777778,
              "#fb9f3a"
             ],
             [
              0.8888888888888888,
              "#fdca26"
             ],
             [
              1,
              "#f0f921"
             ]
            ],
            "type": "heatmap"
           }
          ],
          "histogram": [
           {
            "marker": {
             "pattern": {
              "fillmode": "overlay",
              "size": 10,
              "solidity": 0.2
             }
            },
            "type": "histogram"
           }
          ],
          "histogram2d": [
           {
            "colorbar": {
             "outlinewidth": 0,
             "ticks": ""
            },
            "colorscale": [
             [
              0,
              "#0d0887"
             ],
             [
              0.1111111111111111,
              "#46039f"
             ],
             [
              0.2222222222222222,
              "#7201a8"
             ],
             [
              0.3333333333333333,
              "#9c179e"
             ],
             [
              0.4444444444444444,
              "#bd3786"
             ],
             [
              0.5555555555555556,
              "#d8576b"
             ],
             [
              0.6666666666666666,
              "#ed7953"
             ],
             [
              0.7777777777777778,
              "#fb9f3a"
             ],
             [
              0.8888888888888888,
              "#fdca26"
             ],
             [
              1,
              "#f0f921"
             ]
            ],
            "type": "histogram2d"
           }
          ],
          "histogram2dcontour": [
           {
            "colorbar": {
             "outlinewidth": 0,
             "ticks": ""
            },
            "colorscale": [
             [
              0,
              "#0d0887"
             ],
             [
              0.1111111111111111,
              "#46039f"
             ],
             [
              0.2222222222222222,
              "#7201a8"
             ],
             [
              0.3333333333333333,
              "#9c179e"
             ],
             [
              0.4444444444444444,
              "#bd3786"
             ],
             [
              0.5555555555555556,
              "#d8576b"
             ],
             [
              0.6666666666666666,
              "#ed7953"
             ],
             [
              0.7777777777777778,
              "#fb9f3a"
             ],
             [
              0.8888888888888888,
              "#fdca26"
             ],
             [
              1,
              "#f0f921"
             ]
            ],
            "type": "histogram2dcontour"
           }
          ],
          "mesh3d": [
           {
            "colorbar": {
             "outlinewidth": 0,
             "ticks": ""
            },
            "type": "mesh3d"
           }
          ],
          "parcoords": [
           {
            "line": {
             "colorbar": {
              "outlinewidth": 0,
              "ticks": ""
             }
            },
            "type": "parcoords"
           }
          ],
          "pie": [
           {
            "automargin": true,
            "type": "pie"
           }
          ],
          "scatter": [
           {
            "fillpattern": {
             "fillmode": "overlay",
             "size": 10,
             "solidity": 0.2
            },
            "type": "scatter"
           }
          ],
          "scatter3d": [
           {
            "line": {
             "colorbar": {
              "outlinewidth": 0,
              "ticks": ""
             }
            },
            "marker": {
             "colorbar": {
              "outlinewidth": 0,
              "ticks": ""
             }
            },
            "type": "scatter3d"
           }
          ],
          "scattercarpet": [
           {
            "marker": {
             "colorbar": {
              "outlinewidth": 0,
              "ticks": ""
             }
            },
            "type": "scattercarpet"
           }
          ],
          "scattergeo": [
           {
            "marker": {
             "colorbar": {
              "outlinewidth": 0,
              "ticks": ""
             }
            },
            "type": "scattergeo"
           }
          ],
          "scattergl": [
           {
            "marker": {
             "colorbar": {
              "outlinewidth": 0,
              "ticks": ""
             }
            },
            "type": "scattergl"
           }
          ],
          "scattermap": [
           {
            "marker": {
             "colorbar": {
              "outlinewidth": 0,
              "ticks": ""
             }
            },
            "type": "scattermap"
           }
          ],
          "scattermapbox": [
           {
            "marker": {
             "colorbar": {
              "outlinewidth": 0,
              "ticks": ""
             }
            },
            "type": "scattermapbox"
           }
          ],
          "scatterpolar": [
           {
            "marker": {
             "colorbar": {
              "outlinewidth": 0,
              "ticks": ""
             }
            },
            "type": "scatterpolar"
           }
          ],
          "scatterpolargl": [
           {
            "marker": {
             "colorbar": {
              "outlinewidth": 0,
              "ticks": ""
             }
            },
            "type": "scatterpolargl"
           }
          ],
          "scatterternary": [
           {
            "marker": {
             "colorbar": {
              "outlinewidth": 0,
              "ticks": ""
             }
            },
            "type": "scatterternary"
           }
          ],
          "surface": [
           {
            "colorbar": {
             "outlinewidth": 0,
             "ticks": ""
            },
            "colorscale": [
             [
              0,
              "#0d0887"
             ],
             [
              0.1111111111111111,
              "#46039f"
             ],
             [
              0.2222222222222222,
              "#7201a8"
             ],
             [
              0.3333333333333333,
              "#9c179e"
             ],
             [
              0.4444444444444444,
              "#bd3786"
             ],
             [
              0.5555555555555556,
              "#d8576b"
             ],
             [
              0.6666666666666666,
              "#ed7953"
             ],
             [
              0.7777777777777778,
              "#fb9f3a"
             ],
             [
              0.8888888888888888,
              "#fdca26"
             ],
             [
              1,
              "#f0f921"
             ]
            ],
            "type": "surface"
           }
          ],
          "table": [
           {
            "cells": {
             "fill": {
              "color": "#EBF0F8"
             },
             "line": {
              "color": "white"
             }
            },
            "header": {
             "fill": {
              "color": "#C8D4E3"
             },
             "line": {
              "color": "white"
             }
            },
            "type": "table"
           }
          ]
         },
         "layout": {
          "annotationdefaults": {
           "arrowcolor": "#2a3f5f",
           "arrowhead": 0,
           "arrowwidth": 1
          },
          "autotypenumbers": "strict",
          "coloraxis": {
           "colorbar": {
            "outlinewidth": 0,
            "ticks": ""
           }
          },
          "colorscale": {
           "diverging": [
            [
             0,
             "#8e0152"
            ],
            [
             0.1,
             "#c51b7d"
            ],
            [
             0.2,
             "#de77ae"
            ],
            [
             0.3,
             "#f1b6da"
            ],
            [
             0.4,
             "#fde0ef"
            ],
            [
             0.5,
             "#f7f7f7"
            ],
            [
             0.6,
             "#e6f5d0"
            ],
            [
             0.7,
             "#b8e186"
            ],
            [
             0.8,
             "#7fbc41"
            ],
            [
             0.9,
             "#4d9221"
            ],
            [
             1,
             "#276419"
            ]
           ],
           "sequential": [
            [
             0,
             "#0d0887"
            ],
            [
             0.1111111111111111,
             "#46039f"
            ],
            [
             0.2222222222222222,
             "#7201a8"
            ],
            [
             0.3333333333333333,
             "#9c179e"
            ],
            [
             0.4444444444444444,
             "#bd3786"
            ],
            [
             0.5555555555555556,
             "#d8576b"
            ],
            [
             0.6666666666666666,
             "#ed7953"
            ],
            [
             0.7777777777777778,
             "#fb9f3a"
            ],
            [
             0.8888888888888888,
             "#fdca26"
            ],
            [
             1,
             "#f0f921"
            ]
           ],
           "sequentialminus": [
            [
             0,
             "#0d0887"
            ],
            [
             0.1111111111111111,
             "#46039f"
            ],
            [
             0.2222222222222222,
             "#7201a8"
            ],
            [
             0.3333333333333333,
             "#9c179e"
            ],
            [
             0.4444444444444444,
             "#bd3786"
            ],
            [
             0.5555555555555556,
             "#d8576b"
            ],
            [
             0.6666666666666666,
             "#ed7953"
            ],
            [
             0.7777777777777778,
             "#fb9f3a"
            ],
            [
             0.8888888888888888,
             "#fdca26"
            ],
            [
             1,
             "#f0f921"
            ]
           ]
          },
          "colorway": [
           "#636efa",
           "#EF553B",
           "#00cc96",
           "#ab63fa",
           "#FFA15A",
           "#19d3f3",
           "#FF6692",
           "#B6E880",
           "#FF97FF",
           "#FECB52"
          ],
          "font": {
           "color": "#2a3f5f"
          },
          "geo": {
           "bgcolor": "white",
           "lakecolor": "white",
           "landcolor": "#E5ECF6",
           "showlakes": true,
           "showland": true,
           "subunitcolor": "white"
          },
          "hoverlabel": {
           "align": "left"
          },
          "hovermode": "closest",
          "mapbox": {
           "style": "light"
          },
          "paper_bgcolor": "white",
          "plot_bgcolor": "#E5ECF6",
          "polar": {
           "angularaxis": {
            "gridcolor": "white",
            "linecolor": "white",
            "ticks": ""
           },
           "bgcolor": "#E5ECF6",
           "radialaxis": {
            "gridcolor": "white",
            "linecolor": "white",
            "ticks": ""
           }
          },
          "scene": {
           "xaxis": {
            "backgroundcolor": "#E5ECF6",
            "gridcolor": "white",
            "gridwidth": 2,
            "linecolor": "white",
            "showbackground": true,
            "ticks": "",
            "zerolinecolor": "white"
           },
           "yaxis": {
            "backgroundcolor": "#E5ECF6",
            "gridcolor": "white",
            "gridwidth": 2,
            "linecolor": "white",
            "showbackground": true,
            "ticks": "",
            "zerolinecolor": "white"
           },
           "zaxis": {
            "backgroundcolor": "#E5ECF6",
            "gridcolor": "white",
            "gridwidth": 2,
            "linecolor": "white",
            "showbackground": true,
            "ticks": "",
            "zerolinecolor": "white"
           }
          },
          "shapedefaults": {
           "line": {
            "color": "#2a3f5f"
           }
          },
          "ternary": {
           "aaxis": {
            "gridcolor": "white",
            "linecolor": "white",
            "ticks": ""
           },
           "baxis": {
            "gridcolor": "white",
            "linecolor": "white",
            "ticks": ""
           },
           "bgcolor": "#E5ECF6",
           "caxis": {
            "gridcolor": "white",
            "linecolor": "white",
            "ticks": ""
           }
          },
          "title": {
           "x": 0.05
          },
          "xaxis": {
           "automargin": true,
           "gridcolor": "white",
           "linecolor": "white",
           "ticks": "",
           "title": {
            "standoff": 15
           },
           "zerolinecolor": "white",
           "zerolinewidth": 2
          },
          "yaxis": {
           "automargin": true,
           "gridcolor": "white",
           "linecolor": "white",
           "ticks": "",
           "title": {
            "standoff": 15
           },
           "zerolinecolor": "white",
           "zerolinewidth": 2
          }
         }
        },
        "title": {
         "text": "Wasserstein Distance Between Quarters"
        },
        "xaxis": {
         "title": {
          "text": "Quarter"
         }
        },
        "yaxis": {
         "title": {
          "text": "Quarter"
         }
        }
       }
      }
     },
     "metadata": {},
     "output_type": "display_data"
    }
   ],
   "source": [
    "# Wasserstein Distance Calculation and Heatmap\n",
    "\n",
    "# Get unique quarters\n",
    "quarters = sorted(vectors_df['quarter'].unique())\n",
    "features = [f'feature_{i+1}' for i in range(16)]\n",
    "n = len(quarters)\n",
    "\n",
    "# Collect feature arrays for each quarter\n",
    "quarter_feature_arrays = []\n",
    "for q in quarters:\n",
    "    q_vectors = vectors_df.filter(pl.col('quarter') == q).select(features).to_numpy()\n",
    "    quarter_feature_arrays.append(q_vectors)\n",
    "\n",
    "# Compute pairwise Wasserstein distances (average over features)\n",
    "wasserstein_matrix = np.zeros((n, n))\n",
    "for i in range(n):\n",
    "    for j in range(n):\n",
    "        dists = []\n",
    "        for f in range(len(features)):\n",
    "            arr1 = quarter_feature_arrays[i][:, f]\n",
    "            arr2 = quarter_feature_arrays[j][:, f]\n",
    "            dist = scipy.stats.wasserstein_distance(arr1, arr2)\n",
    "            dists.append(dist)\n",
    "        wasserstein_matrix[i, j] = np.mean(dists)\n",
    "\n",
    "# Heatmap\n",
    "fig = go.Figure(\n",
    "    data=go.Heatmap(\n",
    "        z=wasserstein_matrix,\n",
    "        x=quarters,\n",
    "        y=quarters,\n",
    "        colorscale='RdBu_r',  # Blue=low, Red=high\n",
    "        text=np.round(wasserstein_matrix, 3),  # Values are rounded for readability\n",
    "        texttemplate='%{text}',\n",
    "        zmin=0,\n",
    "        zmax=np.max(wasserstein_matrix)\n",
    "    )\n",
    ")\n",
    "fig.update_layout(\n",
    "    title='Wasserstein Distance Between Quarters',\n",
    "    xaxis_title='Quarter',\n",
    "    yaxis_title='Quarter'\n",
    ")\n",
    "fig.show()\n",
    "#fig.write_image('wassertein_heatmap.png', scale=5)#Uncomment to save an image of the fig"
   ]
  },
  {
   "cell_type": "markdown",
   "metadata": {},
   "source": [
    "# PCA Visuation of vectors"
   ]
  },
  {
   "cell_type": "code",
   "execution_count": 12,
   "metadata": {},
   "outputs": [
    {
     "data": {
      "application/vnd.plotly.v1+json": {
       "config": {
        "plotlyServerURL": "https://plot.ly"
       },
       "data": [
        {
         "marker": {
          "color": "red",
          "size": 10
         },
         "mode": "markers",
         "name": "q1 mean",
         "showlegend": true,
         "type": "scatter",
         "x": [
          0.8717087043506646
         ],
         "y": [
          -0.10762243161711445
         ]
        },
        {
         "line": {
          "color": "red",
          "dash": "dot",
          "width": 2
         },
         "mode": "lines",
         "name": "q1 1 std dev",
         "showlegend": true,
         "type": "scatter",
         "x": {
          "bdata": "Jn49G+s0EEC37qzHXC4QQIZiCY+4GhBALr4LYSX0D0AisjanGZkPQJJgr8qrJA9AjL38z1OXDkCSb1lqo/ENQEb1gmVFNA1ArESq9fxfDECWYDvupHULQDhQS+AudgpA6P6UIaJiCUDUswW9GjwIQB7z8E3IAwdAzJoZx+y6BUC119Im22IEQCoMjxn2/AJAmd5EjK6KAUDqTyMwgg0AQCS8OeLzDf0/vJC+wVDx+T/M8rIvUMj2P0u29hs0lvM/68HH2Ude8D83Y+F0uUfqPyFIlEON1OM/r7hUYGLT2j9EVMHlCjfMP2CUjFn/6Zg/UAhYVryMxb+04oyjvtbWv04yXPEIS+G/emNO8h385r8cGbxWwHjsv0q8mhik3fC/LeakvCRf879xASzRTL71v4VWb3eq+Pe/IRRnvfEL+r8RbtX7/vX7vwMHzwrZtP2/H7Z0SrNG/78o8eK+91QAwAr/0LqP7gDAtHwgRYNvAcBSx85wTdcBwHR4wECDJQLA0q4KFtRZAsBMGQ4DCnQCwEwZDgMKdALA0q4KFtRZAsB0eMBAgyUCwFLHznBN1wHAtHwgRYNvAcAM/9C6j+4AwCjx4r73VADAIbZ0SrNG/78BB88K2bT9vxFu1fv+9fu/HxRnvfEL+r+HVm93qvj3v3EBLNFMvvW/L+akvCRf879HvJoYpN3wvyIZvFbAeOy/aGNO8h385r9KMlzxCEvhv7TijKO+1ta/aAhYVryMxb/AlYxZ/+mYP1hUweUKN8w/r7hUYGLT2j8aSJRDjdTjP0Nj4XS5R+o/7sHH2Ude8D9HtvYbNJbzP8Xysi9QyPY/wJC+wVDx+T8kvDni8w39P+hPIzCCDQBAnN5EjK6KAUAqDI8Z9vwCQLXX0ibbYgRAy5oZx+y6BUAg8/BNyAMHQNSzBb0aPAhA6P6UIaJiCUA2UEvgLnYKQJhgO+6kdQtArESq9fxfDEBG9YJlRTQNQJJvWWqj8Q1AjL38z1OXDkCSYK/KqyQPQCKyNqcZmQ9ALr4LYSX0D0CGYgmPuBoQQLfurMdcLhBAJn49G+s0EEA=",
          "dtype": "f8"
         },
         "y": {
          "bdata": "dYscyCSNu7+28oNrvq6pP4zUt/wfico/QLQfTYE+1z/UMnmIsYzgPxju1FKGZeU/SrND8r8k6j+lmZu4ecXuP8cyGTR3ofE/V5pfjz7M8z839WAN1+D1P+unQqsb3fc/E0f+eQC/+T/ZoXa6lIT7Pxtfht0ELP0/V1b4ZZyz/j+MaDzV4wwAQMDy17qKrgBAIP5rQRw+AUBgGKRqBLsBQAg1yHTCJAJAwlR2X+l6AkBy9v5bIL0CQCZ/8Cgj6wJAIDtzWMIEA0DVcC2B4wkDQAIgfVmB+gJAS1zrvKvWAkAMpdObh54CQPQTUNVOUgJAtaKR+0/yAUAxBuIC7n4BQGScotuf+ABA4pKx9+9fAEB9UGd392r/PxlJq7nl8/0/pI9ZVy1c/D/IxeGZcqX6P1YKu8F50fg/OhYzNCXi9j98qiqKc9n0Py3mv4F9ufI/NRMF1XOE8D+7gPzvOXnsP4r4coClyOc/dzPZ8P/74j8P/l+KdzDcP7kjAK3GRNI/hunugk5+wD9MFK1SIGGdv/7oxr0A4ce/hrqFpbkF1r++NIeIrAXgv98hN/eE++S/WVbgIknf6b9jG3qy7qvuv87RAZFBrvG/oKQIbhj287+cd8MaIiv2v+c7LiMYS/i/qac2zclT+r/Dm75aHkP8vzdX5TIXF/6/ECFd8NHN/79FbVcpxbIAwPVwNQhObgHAnFszRMIYAsAdZSQocrECwOnOY0/ANwPAbGsTSCKrA8Ct3NEhIQsEwMRtVehZVwTAAyVtCX6PBMC56P6lU7MEwI05r821wgTA2AP1pJS9BMDeR3J19aMEwCu/gKjydQTAeh34q7szBMDA/UnBlN0DwBjhJbfWcwPA2Mbtje72AsB3u1kHXWcCwEQxviG2xQHA5PN9f6ASAcBE+ES71E4AwEYzelM59v6/gdgBE6Uw/b9cOUZEwE77v6KGZKZ7Uvm/xStjKOM99782xBzNGxP1v0ReUXVh1PK/EGslkgSE8L/2ENyEz0jsv7ZVgLr6b+e/8/yW2ImC4r/2L2piIgvbvxLEfjFq/NC/oYscyCSNu78=",
          "dtype": "f8"
         }
        },
        {
         "marker": {
          "color": "green",
          "size": 10
         },
         "mode": "markers",
         "name": "q2 mean",
         "showlegend": true,
         "type": "scatter",
         "x": [
          0.34034161927917056
         ],
         "y": [
          -0.007273335476769008
         ]
        },
        {
         "line": {
          "color": "green",
          "dash": "dot",
          "width": 2
         },
         "mode": "lines",
         "name": "q2 1 std dev",
         "showlegend": true,
         "type": "scatter",
         "x": {
          "bdata": "DJp4kLHdDEAj+nUWONAMQGSpOYzZpwxAy/DUjr9kDECxablJLwcMQGnGay+JjwtA8kwYlkj+CkCwf284A1QKQKwCTptokQlAUtfOWEG3CEACcIJRbsYHQPnDn8TnvwZAmVceULykBUAKAsHZD3YEQKP+MGIaNQNAGnVfwybjAUCxAHlbkYEAQI6LlUuNI/4/eoQWhoMq+z+8SBTlFRv4PywItPtr+PQ/RZYpMcHF8T8ScJ/XwgztP6xBflZLe+Y/T1yTU8K73z9Ik5raq3bSP6SJ5zIE1LQ/tJo9SE/uv7/d5IAaeg3Vv4T2A2Oc+eC/JA4KKcJP57+2YUA6poLtv4WovGTyxfG/mxTSe6Ky9L/YQOKeX4T3vwcXBtJBOPq/ns/X33/L/L86zaM4cjv/v1kkddfKwgDAqdovB8fTAcCKNmBFlM8CwKLP+gEvtQPAaL2ajqqDBMD4ensSMjoFwIka4WUJ2AXAR50M1I1cBsCrgPTCNscGwIydFECWFwfA4zHEcVlNB8AEQZ3sSGgHwARBnexIaAfA4zHEcVlNB8CMnRRAlhcHwKuA9MI2xwbAR50M1I1cBsCKGuFlCdgFwPh6exIyOgXAab2ajqqDBMCiz/oBL7UDwIo2YEWUzwLAqdovB8fTAcBaJHXXysIAwDjNozhyO/+/oM/X33/L/L8EFwbSQTj6v9tA4p5fhPe/khTSe6Ky9L+DqLxk8sXxv7ZhQDqmgu2/Kg4KKcJP57969gNjnPngv9HkgBp6DdW/tJo9SE/uv79oiecyBNS0P2CTmtqrdtI/W1yTU8K73z+mQX5WS3vmPwZwn9fCDO0/SJYpMcHF8T8rCLT7a/j0P7hIFOUVG/g/gIQWhoMq+z+Qi5VLjSP+P7EAeVuRgQBAGHVfwybjAUCl/jBiGjUDQAsCwdkPdgRAmVceULykBUD4w5/E578GQANwglFuxgdAUtfOWEG3CECsAk6baJEJQK9/bzgDVApA80wYlkj+CkBpxmsviY8LQLFpuUkvBwxAzPDUjr9kDEBkqTmM2acMQCP6dRY40AxADJp4kLHdDEA=",
          "dtype": "f8"
         },
         "y": {
          "bdata": "g8UWIKXKfb+cKgmIMdnCP9pct1AqRtM/utMByGIL3T+fVvjsF1njP2+X/UhPGOg/2Qg8zHK+7D9aS0vSW6PwPxnxJOU41vI/0o1oaIz19D+pVYtJJv/2PzvND9vs8Pg//LzF/t7I+j9nDrk2FoX8P6JWrprII/4/IR0osEqj/z9NJoeRCIEAQP3ImC5ZHwFAQ0uD/fOrAUB8bgwOSCYCQAY47UbXjQJAhC7O5zbiAkBP/1H3DyMDQBodvZwfUANAy+zdZDdpA0CyeO5xPW4DQIROPpYsXwNA8wuJWRQ8A0A0GfToGAUDQO4RxPFyugJAmU3wZm9cAkCIwNAxb+sBQM75N87mZwFADzhg0l3SAEDBWydjbisAQBOTUyqJ5/4/fQ/AdjtY/T/H4etHj6r7P+pPSYg/4Pk/tfzTpyT79z/pOhG1Mv31P4Xpl1l36PM/ADUzvBe/8T+Gm52VnAbvPz416NzQbuo/jxJtV4i75T/GlQJkm/HgP0q+KXHzK9g/8hTzLZW2zD+x6TJQae2xP4TCNfS9prW/XIH0fz+Tzr9+dCqaSBrZv9fwgvjFaOG/qW3t67Iy5r9PkGhx++Xqv5/2HSrHfe+/imJzBq368b8SF9ijDCT0v3NoUf/HOPa/QyoU8rk2+L90fYnS1Bv6v1UPLJIk5vu/CD0AwdCT/b+gwJN0HiP/v4dyRwg5SQDA1k6AdyjwAMCUEFhzsYUBwE7X8NY5CQLAXmQQDDp6AsC1KOSWPdgCwPovFI7jIgPAuSKp/t5ZA8BJZV4793wDwHiPDhcIjAPAkQP+CQKHA8DgM91B6m0DwBYWcpzaQAPASkXujAEAA8DMTg3soasCwEOFLLMSRALACWKjor7JAcDD37jTIz0BwBM9pzbTngDArkpo+t/e/78rhO7kXV/+v/I7+YCrwPy/iOoFSXQE+7/L+k8lgiz5vzODy5O7Ove/XruosiEx9b+nHmUvzhHzv+l4ixzx3vC/6GO8YJ017b+F8n3deY/ov7mxeIFC0OO/0okC8bf53b/8Erh5fzTUv/WWCtrbtcS/M8gWIKXKfb8=",
          "dtype": "f8"
         }
        },
        {
         "marker": {
          "color": "blue",
          "size": 10
         },
         "mode": "markers",
         "name": "q3 mean",
         "showlegend": true,
         "type": "scatter",
         "x": [
          -0.3021904994217034
         ],
         "y": [
          0.03212527907370101
         ]
        },
        {
         "line": {
          "color": "blue",
          "dash": "dot",
          "width": 2
         },
         "mode": "lines",
         "name": "q3 1 std dev",
         "showlegend": true,
         "type": "scatter",
         "x": {
          "bdata": "fmQYWaFUCECtpV8Q2EYIQKJjRWyKHQhACFxTAOPYB0AClamRKHkHQNHWCs69/gZAJE0k5iBqBkD9KnkL67sFQO9neNLP9ARA8F5feZwVBEDLIKgUNx8DQC2R3aGdEgJAmsnJAeXwAEBOSxm2b3b/PyJcgcyq5fw/bHXXSSAy+j+W/hwJmV73PwRpdd7+bfQ/yDRVlllj8T95Vpirl4PsPwRWRr4fGeY/VKCJ+NAb3z9aaLh9YdHRP7QX0meRgrE/PCIHUhdRwr+jj6mNOrzWv4KIYsI0JuK/MjRUrY7l6L8vt1pwNpXvvyPEE9EjF/O/GOMbkfpU9r9GaM8NyID5v0QgS3RHl/y/5Krc50mV/7/vW/7k3DsBwOT1IfTOnQLA4LCJRg7vA8BV+eM3Py4FwGlvuMAYWgbAfIaTyWVxB8BBz6RpBnMIwF98hw/xXQnALzMDkzMxCsDr96ou9OsKwJzkWGByjQvACESfrwcVDMCLgWJZKIIMwBIK699j1AzAfZvafmULDcAxeo2C9CYNwDF6jYL0Jg3AfZvafmULDcASCuvfY9QMwIuBYlkoggzACESfrwcVDMCc5Fhgco0LwOv3qi706wrAMDMDkzMxCsBefIcP8V0JwELPpGkGcwjAe4aTyWVxB8Bqb7jAGFoGwFT54zc/LgXA4bCJRg7vA8Di9SH0zp0CwPFb/uTcOwHA3Krc50mV/79AIEt0R5f8v0Zozw3IgPm/GuMbkfpU9r8exBPRIxfzvym3WnA2le+/MjRUrY7l6L+KiGLCNCbiv4qPqY06vNa/JCIHUhdRwr98F9JnkYKxP0BouH1h0dE/YKCJ+NAb3z8CVka+HxnmP3NWmKuXg+w/zjRVlllj8T8GaXXe/m30P5b+HAmZXvc/aHXXSSAy+j8oXIHMquX8P1BLGbZvdv8/mcnJAeXwAEAskd2hnRICQMwgqBQ3HwNA8F5feZwVBEDvZ3jSz/QEQPwqeQvruwVAJU0k5iBqBkDR1grOvf4GQAKVqZEoeQdACVxTAOPYB0CiY0Vsih0IQK2lXxDYRghAfmQYWaFUCEA=",
          "dtype": "f8"
         },
         "y": {
          "bdata": "oir+fblyoD/+5d+sHX7HP05fxE/JZdU/86RfupP43j+/7CHhxzbkP1ERguZ+3eg/RiYlg6Nr7T9LJJXQQe7wPz7FDqvFFfM/IJyAzSQq9T9JLzBwOin3P+Uv2bz3EPk/t6rA7WXf+j/HzvlTqJL8P94LxkL+KP4/lwMW3sSg/z9fRSdlPHwAQJhTyt1bFwFA1neC8SChAUBC6i6c/RgCQNZ+ZE92fgJAXPfKcSLRAkALru/KrBADQGxzHtvTPANAbhHmHmpVA0B52gI+VloDQLznfiWTSwNATRjtDDApA0DsbLlmUPMCQKzrnrsrqgJAGbZocQ1OAkBXVDl9VN8BQDpTqAFzXgFADRwb2e3LAECFTdIMXCgAQC2CcXLM6P4/SXQpwIth/T9M0pxSibz7P4PCISZ3+/k/zY43JCQg+D+BnFhGeiz2Pwfh5px8IvQ/EHg7PEUE8j/CUfkjBqjvPww77EnvJ+s/qWqKg+mM5j94QH4ttNvhP+fnHgZLMto/m3V7Q0uU0D9m3GDTS527P85jxaokVaa/9tX3xznvyL9IXZ+mnBXWvz72fPu5mt+/WaXKU5J+5L+0dSwamBnpv3KMOfSume2/ZJVbpBn98L9f/gYFURvzv9W5eK5OJfW/JKxXjPgY97/Y30GOS/T4v6PvvLpdtfq/npFJKGBa/L+En5HaoOH9v164xIGMSf+/uCorDVhIAMDlYbg13doAwAFjSbG+WwHAwsR4pXfKAcBW+q7vlSYCwJZ7yZq6bwLA9yb9QJqlAsBl9o5Z/ccCwCPpEnLA1gLAGCD2UtTRAsAWgi4PPrkCwLW8//4WjQLABgbbpYxNAsCAjXSD4PoBwOz4PtBnlQHAf4aSJYsdAcBBYtoRxpMAwBOobjJN8f+/7yA2RpmZ/r8xKeaq0iH9vxzsGbx8i/u/DcjgVTrY+b8+TfkkzAn4v51MUNgOIva/drmgNfki9L+V4i4Tmg7yv0iDanEszu+/6mBlU0xd67/9S8K2J8/mv24nYrFwKOK/NxrgWuXb2r+c1ETwGknRv12hwduBib6/Tir+fblyoD8=",
          "dtype": "f8"
         }
        },
        {
         "marker": {
          "color": "orange",
          "size": 10
         },
         "mode": "markers",
         "name": "q4 mean",
         "showlegend": true,
         "type": "scatter",
         "x": [
          -0.7771402442107433
         ],
         "y": [
          0.06573736539686617
         ]
        },
        {
         "line": {
          "color": "orange",
          "dash": "dot",
          "width": 2
         },
         "mode": "lines",
         "name": "q4 1 std dev",
         "showlegend": true,
         "type": "scatter",
         "x": {
          "bdata": "wmyPw6MmBUAWzEeuiBgFQIDf0vhF7gRAf2pZMweoBECAG+PGFEYEQLcssqrTyANAKXov/MQwA0AtVtJ5hX4CQIdOjeHMsgFAa3BmM23OAED0kvyxo6T/P6yVyWX9fv0/QGhsGR4u+z9EVijyaLT4P74OUC1rFPY/9AjmftlQ8z/Y145HjWzwP7T3akkD1eo/QnbRu6Cb5D8gh3HKumbcP9gHz1xQi84/IAQ94iQZnj9gB2svcm/Hv7NcJGs1eNm/z+f/1tqo478RJGeM+Zrqv9idjPSmxfC/hl9wbFg59L8swcI/AqX3v5z3Z8cdBfu/Pdu9RTBW/r/w5GY+Z8oAwGRJQhrQXgLAGDOn1rHmA8AefMR9eGAFwP3zKqSeygbATHY5+q4jCMAfGe7MRWoJwIzFj3QSnQrA00O2r9i6C8CtAEvpccIMwPB+MmjOsg3A429lZ/aKDsBOt1gVC0oPwMsTrXlH7w/AytMcoAA9EMCGClC01HQQwNeY2mzmnhDAuy0TbAq7EMCikfCvI8kQwKKR8K8jyRDAuy0TbAq7EMDXmNps5p4QwIYKULTUdBDAytMcoAA9EMDME615R+8PwE63WBULSg/A5G9lZ/aKDsDvfjJozrINwK4AS+lxwgzA0kO2r9i6C8CNxY90Ep0KwB4Z7sxFagnATXY5+q4jCMD88yqknsoGwCB8xH14YAXAFDOn1rHmA8BiSUIa0F4CwPDkZj5nygDAQdu9RTBW/r+W92fHHQX7vyrBwj8Cpfe/hl9wbFg59L/cnYz0psXwvwQkZ4z5muq/yef/1tqo47/CXCRrNXjZv5gHay9yb8e/4AQ94iQZnj/QB89cUIvOPxCHccq6Ztw/TnbRu6Cb5D+492pJA9XqP9jXjkeNbPA/8AjmftlQ8z/EDlAtaxT2P0ZWKPJotPg/PmhsGR4u+z+qlcll/X79P/aS/LGjpP8/a3BmM23OAECHTo3hzLIBQCxW0nmFfgJAKnov/MQwA0C3LLKq08gDQIAb48YURgRAf2pZMweoBECA39L4Re4EQBbMR66IGAVAwmyPw6MmBUA=",
          "dtype": "f8"
         },
         "y": {
          "bdata": "yjaB+inUsD9JW+PcmdnLP9iSje6Kmtc/rT9cMSWa4D9z/YLlEljlP3FWtzsrAuo/irnRTZ+T7j+Ghy7O3IPxPwj8nnTxrPM/TP2UedPC9T855oaGXMP3PyaOU0Z8rPk/ZyPghTp8+z+7lNU7uTD9P2vHZXU2yP4/TVIOE4cgAECOcG/s3cwAQFUULCBuaAFAQ/OdUpfyAUCZkG8Yy2oCQEhPa4mN0AJA2VI1wHUjA0B1hWxGLmMDQNxMw2x1jwNAex61jh2oA0DOJpNBDa0DQCaEt24/ngNA3xLEWMN7A0DfYueLvEUDQHMNOLli/AJAdTFMfQGgAkAPQ0gS+DACQHCHte24rwFAYmyFSskcAUByW7ufwHgAQNU0lQiQiP8/glaSATMA/j+br1af/ln8P/Itmxmml/o/aFxHqvm6+D82lOiu5MX2PwJlL65ruvQ/GVN9Q6qa8j/sxqfy0GjwP2YgW8xFTuw/dStlNOev5z+MOlLtSPviP9S0hWyJatw/YFUde4zF0j/O1wo5GCPCP1ARmujj7oS/B3S5++62xL94GUVvdADUv6rZY918jN2/xt3Etdx647+v0rpNOxnovylAr2aXnOy/PSwtBCWA8L8qPt9u5p/yv1ptmG9fq/S/jzX3anSg9r8XB0vaIH34v8KIBmB5P/q/pi9Cwq3l+7/8DUXJCm79vwqQJgD81v6/91jdqoYPAMAEdA1OdqIAwKMvoHK1IwHACB6k3b6SAcAI+o8ZIO8BwHNPP+x5OALAc/8buYBuAsC6cA/P/JACwGIT66HKnwLADwsN79qaAsBwORvNMoICwApyxKbrVQLAbT+NIDMWAsDcO8PpSsMBwC19x3iIXQHA1t/1slTlAMDpAISAK1sAwEO6jpk2f/+/wX3M5ogm/r+OoBU2sa38v99thfwzFvu/jfyPRrVh+b9QZwMH95H3v1y/NkfXqPW/ctZEOk6o878v1U41bJLxv1/BvB2v0u6/0Gsxz5Re6r+/CBe9IM3lv8Wv4mYII+G/4ON3ZTXK2L/R7pni62DOvwBJxMTfCra/oDaB+inUsD8=",
          "dtype": "f8"
         }
        }
       ],
       "layout": {
        "legend": {
         "title": {
          "text": "Quarter"
         }
        },
        "plot_bgcolor": "white",
        "template": {
         "data": {
          "bar": [
           {
            "error_x": {
             "color": "#2a3f5f"
            },
            "error_y": {
             "color": "#2a3f5f"
            },
            "marker": {
             "line": {
              "color": "#E5ECF6",
              "width": 0.5
             },
             "pattern": {
              "fillmode": "overlay",
              "size": 10,
              "solidity": 0.2
             }
            },
            "type": "bar"
           }
          ],
          "barpolar": [
           {
            "marker": {
             "line": {
              "color": "#E5ECF6",
              "width": 0.5
             },
             "pattern": {
              "fillmode": "overlay",
              "size": 10,
              "solidity": 0.2
             }
            },
            "type": "barpolar"
           }
          ],
          "carpet": [
           {
            "aaxis": {
             "endlinecolor": "#2a3f5f",
             "gridcolor": "white",
             "linecolor": "white",
             "minorgridcolor": "white",
             "startlinecolor": "#2a3f5f"
            },
            "baxis": {
             "endlinecolor": "#2a3f5f",
             "gridcolor": "white",
             "linecolor": "white",
             "minorgridcolor": "white",
             "startlinecolor": "#2a3f5f"
            },
            "type": "carpet"
           }
          ],
          "choropleth": [
           {
            "colorbar": {
             "outlinewidth": 0,
             "ticks": ""
            },
            "type": "choropleth"
           }
          ],
          "contour": [
           {
            "colorbar": {
             "outlinewidth": 0,
             "ticks": ""
            },
            "colorscale": [
             [
              0,
              "#0d0887"
             ],
             [
              0.1111111111111111,
              "#46039f"
             ],
             [
              0.2222222222222222,
              "#7201a8"
             ],
             [
              0.3333333333333333,
              "#9c179e"
             ],
             [
              0.4444444444444444,
              "#bd3786"
             ],
             [
              0.5555555555555556,
              "#d8576b"
             ],
             [
              0.6666666666666666,
              "#ed7953"
             ],
             [
              0.7777777777777778,
              "#fb9f3a"
             ],
             [
              0.8888888888888888,
              "#fdca26"
             ],
             [
              1,
              "#f0f921"
             ]
            ],
            "type": "contour"
           }
          ],
          "contourcarpet": [
           {
            "colorbar": {
             "outlinewidth": 0,
             "ticks": ""
            },
            "type": "contourcarpet"
           }
          ],
          "heatmap": [
           {
            "colorbar": {
             "outlinewidth": 0,
             "ticks": ""
            },
            "colorscale": [
             [
              0,
              "#0d0887"
             ],
             [
              0.1111111111111111,
              "#46039f"
             ],
             [
              0.2222222222222222,
              "#7201a8"
             ],
             [
              0.3333333333333333,
              "#9c179e"
             ],
             [
              0.4444444444444444,
              "#bd3786"
             ],
             [
              0.5555555555555556,
              "#d8576b"
             ],
             [
              0.6666666666666666,
              "#ed7953"
             ],
             [
              0.7777777777777778,
              "#fb9f3a"
             ],
             [
              0.8888888888888888,
              "#fdca26"
             ],
             [
              1,
              "#f0f921"
             ]
            ],
            "type": "heatmap"
           }
          ],
          "histogram": [
           {
            "marker": {
             "pattern": {
              "fillmode": "overlay",
              "size": 10,
              "solidity": 0.2
             }
            },
            "type": "histogram"
           }
          ],
          "histogram2d": [
           {
            "colorbar": {
             "outlinewidth": 0,
             "ticks": ""
            },
            "colorscale": [
             [
              0,
              "#0d0887"
             ],
             [
              0.1111111111111111,
              "#46039f"
             ],
             [
              0.2222222222222222,
              "#7201a8"
             ],
             [
              0.3333333333333333,
              "#9c179e"
             ],
             [
              0.4444444444444444,
              "#bd3786"
             ],
             [
              0.5555555555555556,
              "#d8576b"
             ],
             [
              0.6666666666666666,
              "#ed7953"
             ],
             [
              0.7777777777777778,
              "#fb9f3a"
             ],
             [
              0.8888888888888888,
              "#fdca26"
             ],
             [
              1,
              "#f0f921"
             ]
            ],
            "type": "histogram2d"
           }
          ],
          "histogram2dcontour": [
           {
            "colorbar": {
             "outlinewidth": 0,
             "ticks": ""
            },
            "colorscale": [
             [
              0,
              "#0d0887"
             ],
             [
              0.1111111111111111,
              "#46039f"
             ],
             [
              0.2222222222222222,
              "#7201a8"
             ],
             [
              0.3333333333333333,
              "#9c179e"
             ],
             [
              0.4444444444444444,
              "#bd3786"
             ],
             [
              0.5555555555555556,
              "#d8576b"
             ],
             [
              0.6666666666666666,
              "#ed7953"
             ],
             [
              0.7777777777777778,
              "#fb9f3a"
             ],
             [
              0.8888888888888888,
              "#fdca26"
             ],
             [
              1,
              "#f0f921"
             ]
            ],
            "type": "histogram2dcontour"
           }
          ],
          "mesh3d": [
           {
            "colorbar": {
             "outlinewidth": 0,
             "ticks": ""
            },
            "type": "mesh3d"
           }
          ],
          "parcoords": [
           {
            "line": {
             "colorbar": {
              "outlinewidth": 0,
              "ticks": ""
             }
            },
            "type": "parcoords"
           }
          ],
          "pie": [
           {
            "automargin": true,
            "type": "pie"
           }
          ],
          "scatter": [
           {
            "fillpattern": {
             "fillmode": "overlay",
             "size": 10,
             "solidity": 0.2
            },
            "type": "scatter"
           }
          ],
          "scatter3d": [
           {
            "line": {
             "colorbar": {
              "outlinewidth": 0,
              "ticks": ""
             }
            },
            "marker": {
             "colorbar": {
              "outlinewidth": 0,
              "ticks": ""
             }
            },
            "type": "scatter3d"
           }
          ],
          "scattercarpet": [
           {
            "marker": {
             "colorbar": {
              "outlinewidth": 0,
              "ticks": ""
             }
            },
            "type": "scattercarpet"
           }
          ],
          "scattergeo": [
           {
            "marker": {
             "colorbar": {
              "outlinewidth": 0,
              "ticks": ""
             }
            },
            "type": "scattergeo"
           }
          ],
          "scattergl": [
           {
            "marker": {
             "colorbar": {
              "outlinewidth": 0,
              "ticks": ""
             }
            },
            "type": "scattergl"
           }
          ],
          "scattermap": [
           {
            "marker": {
             "colorbar": {
              "outlinewidth": 0,
              "ticks": ""
             }
            },
            "type": "scattermap"
           }
          ],
          "scattermapbox": [
           {
            "marker": {
             "colorbar": {
              "outlinewidth": 0,
              "ticks": ""
             }
            },
            "type": "scattermapbox"
           }
          ],
          "scatterpolar": [
           {
            "marker": {
             "colorbar": {
              "outlinewidth": 0,
              "ticks": ""
             }
            },
            "type": "scatterpolar"
           }
          ],
          "scatterpolargl": [
           {
            "marker": {
             "colorbar": {
              "outlinewidth": 0,
              "ticks": ""
             }
            },
            "type": "scatterpolargl"
           }
          ],
          "scatterternary": [
           {
            "marker": {
             "colorbar": {
              "outlinewidth": 0,
              "ticks": ""
             }
            },
            "type": "scatterternary"
           }
          ],
          "surface": [
           {
            "colorbar": {
             "outlinewidth": 0,
             "ticks": ""
            },
            "colorscale": [
             [
              0,
              "#0d0887"
             ],
             [
              0.1111111111111111,
              "#46039f"
             ],
             [
              0.2222222222222222,
              "#7201a8"
             ],
             [
              0.3333333333333333,
              "#9c179e"
             ],
             [
              0.4444444444444444,
              "#bd3786"
             ],
             [
              0.5555555555555556,
              "#d8576b"
             ],
             [
              0.6666666666666666,
              "#ed7953"
             ],
             [
              0.7777777777777778,
              "#fb9f3a"
             ],
             [
              0.8888888888888888,
              "#fdca26"
             ],
             [
              1,
              "#f0f921"
             ]
            ],
            "type": "surface"
           }
          ],
          "table": [
           {
            "cells": {
             "fill": {
              "color": "#EBF0F8"
             },
             "line": {
              "color": "white"
             }
            },
            "header": {
             "fill": {
              "color": "#C8D4E3"
             },
             "line": {
              "color": "white"
             }
            },
            "type": "table"
           }
          ]
         },
         "layout": {
          "annotationdefaults": {
           "arrowcolor": "#2a3f5f",
           "arrowhead": 0,
           "arrowwidth": 1
          },
          "autotypenumbers": "strict",
          "coloraxis": {
           "colorbar": {
            "outlinewidth": 0,
            "ticks": ""
           }
          },
          "colorscale": {
           "diverging": [
            [
             0,
             "#8e0152"
            ],
            [
             0.1,
             "#c51b7d"
            ],
            [
             0.2,
             "#de77ae"
            ],
            [
             0.3,
             "#f1b6da"
            ],
            [
             0.4,
             "#fde0ef"
            ],
            [
             0.5,
             "#f7f7f7"
            ],
            [
             0.6,
             "#e6f5d0"
            ],
            [
             0.7,
             "#b8e186"
            ],
            [
             0.8,
             "#7fbc41"
            ],
            [
             0.9,
             "#4d9221"
            ],
            [
             1,
             "#276419"
            ]
           ],
           "sequential": [
            [
             0,
             "#0d0887"
            ],
            [
             0.1111111111111111,
             "#46039f"
            ],
            [
             0.2222222222222222,
             "#7201a8"
            ],
            [
             0.3333333333333333,
             "#9c179e"
            ],
            [
             0.4444444444444444,
             "#bd3786"
            ],
            [
             0.5555555555555556,
             "#d8576b"
            ],
            [
             0.6666666666666666,
             "#ed7953"
            ],
            [
             0.7777777777777778,
             "#fb9f3a"
            ],
            [
             0.8888888888888888,
             "#fdca26"
            ],
            [
             1,
             "#f0f921"
            ]
           ],
           "sequentialminus": [
            [
             0,
             "#0d0887"
            ],
            [
             0.1111111111111111,
             "#46039f"
            ],
            [
             0.2222222222222222,
             "#7201a8"
            ],
            [
             0.3333333333333333,
             "#9c179e"
            ],
            [
             0.4444444444444444,
             "#bd3786"
            ],
            [
             0.5555555555555556,
             "#d8576b"
            ],
            [
             0.6666666666666666,
             "#ed7953"
            ],
            [
             0.7777777777777778,
             "#fb9f3a"
            ],
            [
             0.8888888888888888,
             "#fdca26"
            ],
            [
             1,
             "#f0f921"
            ]
           ]
          },
          "colorway": [
           "#636efa",
           "#EF553B",
           "#00cc96",
           "#ab63fa",
           "#FFA15A",
           "#19d3f3",
           "#FF6692",
           "#B6E880",
           "#FF97FF",
           "#FECB52"
          ],
          "font": {
           "color": "#2a3f5f"
          },
          "geo": {
           "bgcolor": "white",
           "lakecolor": "white",
           "landcolor": "#E5ECF6",
           "showlakes": true,
           "showland": true,
           "subunitcolor": "white"
          },
          "hoverlabel": {
           "align": "left"
          },
          "hovermode": "closest",
          "mapbox": {
           "style": "light"
          },
          "paper_bgcolor": "white",
          "plot_bgcolor": "#E5ECF6",
          "polar": {
           "angularaxis": {
            "gridcolor": "white",
            "linecolor": "white",
            "ticks": ""
           },
           "bgcolor": "#E5ECF6",
           "radialaxis": {
            "gridcolor": "white",
            "linecolor": "white",
            "ticks": ""
           }
          },
          "scene": {
           "xaxis": {
            "backgroundcolor": "#E5ECF6",
            "gridcolor": "white",
            "gridwidth": 2,
            "linecolor": "white",
            "showbackground": true,
            "ticks": "",
            "zerolinecolor": "white"
           },
           "yaxis": {
            "backgroundcolor": "#E5ECF6",
            "gridcolor": "white",
            "gridwidth": 2,
            "linecolor": "white",
            "showbackground": true,
            "ticks": "",
            "zerolinecolor": "white"
           },
           "zaxis": {
            "backgroundcolor": "#E5ECF6",
            "gridcolor": "white",
            "gridwidth": 2,
            "linecolor": "white",
            "showbackground": true,
            "ticks": "",
            "zerolinecolor": "white"
           }
          },
          "shapedefaults": {
           "line": {
            "color": "#2a3f5f"
           }
          },
          "ternary": {
           "aaxis": {
            "gridcolor": "white",
            "linecolor": "white",
            "ticks": ""
           },
           "baxis": {
            "gridcolor": "white",
            "linecolor": "white",
            "ticks": ""
           },
           "bgcolor": "#E5ECF6",
           "caxis": {
            "gridcolor": "white",
            "linecolor": "white",
            "ticks": ""
           }
          },
          "title": {
           "x": 0.05
          },
          "xaxis": {
           "automargin": true,
           "gridcolor": "white",
           "linecolor": "white",
           "ticks": "",
           "title": {
            "standoff": 15
           },
           "zerolinecolor": "white",
           "zerolinewidth": 2
          },
          "yaxis": {
           "automargin": true,
           "gridcolor": "white",
           "linecolor": "white",
           "ticks": "",
           "title": {
            "standoff": 15
           },
           "zerolinecolor": "white",
           "zerolinewidth": 2
          }
         }
        },
        "title": {
         "text": "PCA of Quarter Feature Vectors"
        },
        "xaxis": {
         "title": {
          "text": "PCA 1"
         }
        },
        "yaxis": {
         "title": {
          "text": "PCA 2"
         }
        }
       }
      }
     },
     "metadata": {},
     "output_type": "display_data"
    }
   ],
   "source": [
    "# PCA visualisation of quarters in 2D\n",
    "\n",
    "# Prepare datas for PCA\n",
    "features = [f'feature_{i+1}' for i in range(16)]\n",
    "quarters = sorted(vectors_df['quarter'].unique())\n",
    "\n",
    "# Stacks all feature vectors for PCA fit\n",
    "all_vectors = vectors_df.select(features).to_numpy()\n",
    "\n",
    "# Fits PCA and transforms the data\n",
    "pca = PCA(n_components=2)\n",
    "all_vectors_2d = pca.fit_transform(all_vectors)\n",
    "\n",
    "# Adds PCA results to DataFrame\n",
    "vectors_df = vectors_df.with_columns([\n",
    "    pl.Series('pca1', all_vectors_2d[:, 0]),\n",
    "    pl.Series('pca2', all_vectors_2d[:, 1])\n",
    "])\n",
    "\n",
    "# Computes the means and standard deviations for each quarter\n",
    "quarter_stats = {}\n",
    "for q in quarters:\n",
    "    q_df = vectors_df.filter(pl.col('quarter') == q)\n",
    "    pca1 = q_df['pca1'].to_numpy()\n",
    "    pca2 = q_df['pca2'].to_numpy()\n",
    "    mean = np.array([pca1.mean(), pca2.mean()])\n",
    "    std = np.array([pca1.std(), pca2.std()])\n",
    "    quarter_stats[q] = {'mean': mean, 'std': std}\n",
    "\n",
    "# Plots each quarter; mean is a dot and one standard deviation is presented as a circle\n",
    "colour_map = {'q1': 'red', 'q2': 'green', 'q3': 'blue', 'q4': 'orange'}\n",
    "fig = go.Figure()\n",
    "\n",
    "for q in quarters:\n",
    "    mean = quarter_stats[q]['mean']\n",
    "    std = quarter_stats[q]['std']\n",
    "    colour = colour_map.get(q, 'black')\n",
    "    # dot for mean\n",
    "    fig.add_trace(go.Scatter(\n",
    "        x=[mean[0]], y=[mean[1]],\n",
    "        mode='markers',\n",
    "        marker=dict(size=10, color=colour),\n",
    "        name=f'{q} mean',\n",
    "        showlegend=True\n",
    "    ))\n",
    "    # Dashed circle for 1 std dev\n",
    "    theta = np.linspace(0, 2 * np.pi, 100)\n",
    "    circle_x = mean[0] + std[0] * np.cos(theta)\n",
    "    circle_y = mean[1] + std[1] * np.sin(theta)\n",
    "    fig.add_trace(go.Scatter(\n",
    "        x=circle_x, y=circle_y,\n",
    "        mode='lines',\n",
    "        line=dict(color=colour, width=2, dash='dot'),\n",
    "        name=f'{q} 1 std dev',\n",
    "        showlegend=True\n",
    "    ))\n",
    "\n",
    "fig.update_layout(\n",
    "    title='PCA of Quarter Feature Vectors',\n",
    "    xaxis_title='PCA 1',\n",
    "    yaxis_title='PCA 2',\n",
    "    plot_bgcolor='white',\n",
    "    legend_title='Quarter'\n",
    ")\n",
    "\n",
    "fig.show()\n",
    "#fig.write_image('pca.png', scale=5)#Uncomment to save an image of the fig"
   ]
  }
 ],
 "metadata": {
  "kernelspec": {
   "display_name": "venv",
   "language": "python",
   "name": "python3"
  },
  "language_info": {
   "codemirror_mode": {
    "name": "ipython",
    "version": 3
   },
   "file_extension": ".py",
   "mimetype": "text/x-python",
   "name": "python",
   "nbconvert_exporter": "python",
   "pygments_lexer": "ipython3",
   "version": "3.9.6"
  }
 },
 "nbformat": 4,
 "nbformat_minor": 2
}
